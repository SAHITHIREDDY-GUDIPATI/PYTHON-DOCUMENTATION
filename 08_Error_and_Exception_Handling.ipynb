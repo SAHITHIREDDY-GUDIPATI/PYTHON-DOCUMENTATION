{
  "nbformat": 4,
  "nbformat_minor": 0,
  "metadata": {
    "colab": {
      "provenance": [],
      "authorship_tag": "ABX9TyNRFbSauh3URfkCCBi0Qyv9",
      "include_colab_link": true
    },
    "kernelspec": {
      "name": "python3",
      "display_name": "Python 3"
    },
    "language_info": {
      "name": "python"
    }
  },
  "cells": [
    {
      "cell_type": "markdown",
      "metadata": {
        "id": "view-in-github",
        "colab_type": "text"
      },
      "source": [
        "<a href=\"https://colab.research.google.com/github/SAHITHIREDDY-GUDIPATI/PYTHON-DOCUMENTATION/blob/main/08_Error_and_Exception_Handling.ipynb\" target=\"_parent\"><img src=\"https://colab.research.google.com/assets/colab-badge.svg\" alt=\"Open In Colab\"/></a>"
      ]
    },
    {
      "cell_type": "markdown",
      "source": [
        "**Object-Oriented Programming (OOP) in Python :**\n",
        "\n",
        "OOP is a programming paradigm that uses objects and classes to structure and organize code. It allows us to model real-world entities, reuse code, and manage complexity effectively.\n",
        "\n"
      ],
      "metadata": {
        "id": "YFldNN7XrXO5"
      }
    },
    {
      "cell_type": "markdown",
      "source": [
        "![Screenshot (55).png](data:image/png;base64,iVBORw0KGgoAAAANSUhEUgAAAf4AAACqCAYAAABMBy1wAAAAAXNSR0IArs4c6QAAAARnQU1BAACxjwv8YQUAAAAJcEhZcwAADsMAAA7DAcdvqGQAADXNSURBVHhe7Z0JlFbFlccLI8oiIhJlR6MS1giEDBkRMECAKDEHDjIsBkZlUcbDqAOiMeMgATLqABoZZVhDiEKIQTACBtkGEIwoIjoghCMqyKaobIqCoad/xXfb6sf7ur/e6OX7/85553uvXi23bi23br3X/cplZOKEEEIIkRack/gVQgghRBogwy+EEEKkETL8QgghRBohwy+EEEKkETL8QgghRBohwy+EEEKkETL8QgghRBohwy+EEEKkEUVq+B977DF34YUXuhtuuMF9/vnnidCcsTT8AulIT9jtt9/uwwqT/fv3uyZNmvj87bCy0xX0jB7QC/qJ480333Q1atTI0hnnhEXJLV6c/jnSvQ2EEKKoKBLDb5P9qFGjEiH5Z+rUqe7ll192bdu2dRMnTkyEFg7I2bx5c/fhhx8mQkoHZizzsqBKFQzu3LlzE1fxvPjii659+/bu+PHjiRDnzwnjnpFqvDjoO7nFEUIIkXeK1OO/9957XcWKFRNXeQfD/PDDD/s8fv3rX7vKlSsn7hQcDOYDDzzgDRGLin379rkjR464v/3tb65u3bqJWCUTDP8nn3ySuCpctm3b5n/nzZvntm7d6mrWrOmvDcoePny4P+/bt6/XGQfnwD3ipBrPQOfoPoyzcOFC/yuEEKLwKBLD36JFC3fgwAF34403JkLyx+TJk71hvv/++32eBgYj3B62RwD2mCB8JMB53Db0mjVr/E4CBmfmzJlZiwoMXa9evfw52La3HaEXaveeffbZrMcRUS/cZIqmT1YHe7SBzMS1OJYvYeZFI3+tWrV8mO2yRPOLI1mdCDdvv3fv3rE7Cps2bfI7JOht9OjRiVDnzwnjHnFSjRdHo0aNEmdCCCEKmxL7ch/GFCOENz5kyJBE6GmD2bFjx2zb88TDwHbo0MHvDqxdu9bH4+C8VatWrkGDBonYpzHPtl27dmd4tUZoCA0MohlKg7IxwsAvjyeA8LjHHTnVIQSv2OKE+UY5dOiQ69evX7Yt9WSkWqdkJNNblSpV3OWXX+7PiZNqvDiShQshhCg4JdbwY8ww4hs3bnQ7duxIhJ42kBhD2z7GcyfesmXLvHHv3r17ljdpXmfnzp3z/JgAD5qtZrxT24I2zzW6Bf29730v230MF8Z92rRp/pptc+5zXH/99TnW4YsvvvBpMOKDBw/290kP3Mfbt/j2iIIFj2FlTZkyJRHyDbnViTS2zU4+S5YsydfjlVQ99jAe+vjud7/rdyDQD/UbOnRo4q4QQojCosQafoweRhwDyLP46JYzxgEjEX15jDSAIePAgISG0TCjY7sDycA7xUsF21HYvXt3NnmszDiDh5Ft2bJl4io7yeoAodxs53OdDDxq9AV47+QZ3T0ISaVOyUimt6NHj7r3338/cZV6vDiQZ+nSpdke7wghhCgcSqzhB3seHLfNbd6yHeadYkTxhDE4GH6McpwBwRjbs+ZwOx4jxWMGAyOFsYJVq1Z5A12vXr2UPWHbfYgjrg6VKlXy9ygHbx74jS4Motxzzz0+D9sdYLch2YKmIHVKpjfOCUP3tEGq8Qzi2i4E74fI6AshRNFw1g0/xogX1uJeuIuCJzthwgR/ztv9xDcP1bxlO+wZNcaLrX2MCwbNvPEooZcc5sV2M2kxPKTl3LagMVqUncoWdJwXbnLmVgfD0vEL0UcW9nIf+dhLgBY39OqNgtYJwjYJ5ecchg0b5mVMNZ4QQoizS4n2+ME8eIw4L7BhUNgGxlglwwwrXmSybXbASzYPOcS2qfm/AZRtkGdetqDJ356hh5A+tzpwj+16i8PuAPmBGfBkUO/wLxVCClon4D0Fe8/AMI+de0aq8YQQQpw9ymVkkjgvM9jb9BjLuJfcSjI8Z+fPCXmpUc+5hRBCFDYl3uPPC2yV52f7WgghhEgXypThD5k1a5a8ZSGEECJCmdzqF0IIIUQ8ZdbjF0IIIcSZyPALIYQQaYQMvxBCCJFGyPALIYQQaYQMvxBCCJFGyPALIYQQaYQMvxBCCJFGFMnf8R87dszt2rXLf1P/1KlTiVAhhBBC5IdzzjnHXXTRRa5+/fruggsuSITmj0I3/Bj9t956y1188cVeOIQVBWfnzp3uiiuuSFwJIYRIJ/7+97+7L774wjvUTZs2LZDxL3SrjKeP0ed/5svoCyGEEAXnW9/6lv/UerVq1bydLQiFbplZjRR0G0IIIYQQZ8IH6LCzBaHQDT/P9OXpCyGEEIUPnn9B352ThRZCCCHSCBl+kTLHjx93X3/9deIqZ4hHfCGEECWLYjP8X375pZs4caJr1qyZa9SokXvooYcSd0R+2bJli7vmmmtcu3btXIsWLdx//ud/FprxPXnypLv//vvdokWLEiE5Qzzik04IIUTJoVgMP39BOGXKFLd3717317/+1W3btu2sG/4xY8a41atXJ67KDt///vfd0qVLvV4///xz99hjj3l9F5Ty5cu73/zmN6579+6JkDN55pln3G9/+1t/Tjzik04IIUTJoVgM/yeffOJee+01d9ddd2X7CwAM1Ny5c12HDh285/q73/3Oh02bNs3deeed7sYbb3TXXXede/fdd334888/76699lrXrVs3v3jYv3+/GzBggPd4x44d67ebSfsv//Iv3hAR94033nB/+MMf3Lx589y9997r1q9fnyi9bFGhQgV36623er3wBuiaNWtcp06dvG6XL1/udYOO2rdv70aMGOF3YFgsdO7c2Ye9/PLLbtWqVe7mm292N9xwg3vxxRd9G7CrEKdT9Dh+/Hj3xBNPeP0ShyMvbSqEEKLoKRbDf+DAAVe1alVXvXr1RMhp+Cc1K1ascAsWLPCGZu3atT4M+L8AhPfo0SMrfM6cOe6Pf/yjW7x4sX9cMHPmTHfTTTd5g3X06FG3efNmn/a8885zf/rTn9yoUaO8V0ocFguPPPKIa9OmjY9TFkFnwEJr9uzZ3hvn97nnnvO6+dvf/uYWLlzoDTaPBDDaEyZM8IuEtm3b+rQfffSRN9IY55CoTlu3bu0XAxx9+vRJxMpbmwohhCh6isXwY/AxzBwh/FMC7vFvCflHBSwO9uzZ4+/xX+vOPfdcV7lyZf/cmLiXX365q1Onjr/PfzTCu3344Ye917phwwb31Vdf+Xv8lyPSEhfP9sSJEz68rIPRpt4Yfjz1/v37+x2Rw4cPu7p163pjjseNF757927/jyGuuuqqROrT8OjAdBySqk7z0qZCCCGKnmIx/N/+9rf9/xtmCxijYWBEDh486LemWRRgoOKMDlx66aXuvffe88YN+KcGGDNeKMPj5zBvnkcAbC+znYzhIW5Zh3+djEHv0qWLXyBdeeWV7ve//73XCx56jRo13MCBA73X/tJLL3kDjC4/+OCDRA45k6pO89KmQgghip5iMfwYGZ6v42Xy9jnb9OPGjXMNGjTwz6HxQtn+5TzZ/6dv0qSJf8ZM3J/97Gdux44d7vbbb3ezZs3yz/gxani68M477/it/alTp3qvt1y5cj79yJEjy9wzfp63o7euXbu6H/zgB65Xr17eyLP93rdvX78bwnY+2+09e/Z0vXv3dq1atXLf/e533bBhw9ygQYP8TkBueonTKbsF06dP98/4jby0qRBCiKKn0D/Sw0thJWli5/k0DB482P+WVjDUJUWvZUWnQghRGsEe2HtY+aFYPH4hhBBCFA9l3uMvK5Qkj18IIUTxIY9fCCGEECkjwy+EEEKkETL8QgghRBohwy+EEEKkETL8QgghRBpRJG/1CyGEEKLoKMhb/YVu+PnwC/8FThQu0qsQQggoqD3QVr8QQgiRRsjwCyGEEGmEDL8QQgiRRsjwCyGEEGmEDL8QQgiRRsjwCyGEEGlEsRn+48ePu4ceeshVr17dXXjhhe7uu+92+/fvdzfccIP/Ffnn9ttvd4899lji6hs+//xzfy+q3xdffDE2fkEgv/zkiSz0B36LE/RU2DLE6bmo+zz1QJ8cTZo0ybUc4hNvzJgxhd4n8sqbb77p+vbt6z7++OPYflsUUOdou48YMcLLkleSjbf8QPnIUZggF/IhZ15IVRbr7+RPH+fIa1nJQO6CjM/CbJvSSLEYfv51wIQJE9zu3bvd+++/744cOeIef/zxxF1REOjI6HXDhg2FNsjywz333OOPZMyYMSN2Mt24caP/G9Xrr78+EXL2QB7kgilTppwVGWrWrOmWLFnif1MhlDEV6tWr5/XJGJszZ47r2bNn0smOcOJv3brVPfjggzm2X0EJ2z9ZnVq0aOHmzp3rKlWqlAhJjbFjx+ZrQicNYyYv7Z5Te1SuXNkNHTrULV68OBFS/FBH9FPUoMfXX3/dDRkyxO3YscP3O/o5OskvYZ8p6PgsiW1zNikWw88Knv/wx+RSpUqVRGh2nn32WdeyZUs/EU2aNMmdOHHC3Xvvva5hw4Zu4MCBfiILr9lBEM5t2rTJde7c2dWpU8cPuDjGjx/vPcDoCjycFMJzVtbEr1Gjhh943GO1jDdGOOfA6p5z8l24cKG/jsYlLw6MSvv27bOt2on/6KOPuubNm/tyuCYNB+cWx8oIZSc+8lkZYTz6G7+hrGF8wpCzX79+Xi6uSW+y4t3gBYceM+GkJYy62YRk2P2wTNizZ49PQzhxqIOVz2H3rL6hnBjBUEa7Z+2SGxjSm266yfcRyg11wvVtt93m9Z9b+4HVz8oO8zPZjVAXpldr/2iduEdZ1157rXvrrbd82BdffOHzifZb4nKAnZN/XB+ytstJTvTSqlUrf05elo42g7AtkIv84trD7kODBg3c3r17fblGXDxkYZeFcKtfKOsjjzzi44VQvumKdMiMvFZXCOvPN9zDNja9Dho0yMcxfVjdQ/mSycL9MJ7B3FO7dm139OjRbDoKjbedU15OY4y6Pfnkk1l9hnBk5TeUi3jkRxhlkSfh0XpZGXFtky4Ui+FH2dWqVXOXXHJJIuRMevXq5Qfi2rVr3fLly70Hiyeybt0632E++OCDbNcVK1ZMpExvVqxY4Tp06OA6derkVq1alQj9BnYDWBSwcGKBsGbNmsSdeBgUrNz37dvnNm/e7BYtWuTDaZcBAwb4fFi82WAGVvbnn39+4uqbuJQ1e/ZsP3gZjFyHq3YG9siRI305eMDbtm3z5XJwbhMChN4DMk6ePNmnQ54wT+Ih/7Bhw/y91q1be1kxggcOHPB5G3jEyIU3EUIeK1eudIMHD/aGivIwjHjShO/atSsR8zTh/ah+LC/uEccmX8D7QAbSkAcTdVgvJvlQRnZHli5d6utBfVKhUaNG/hfdhzphop45c6bXf27tx0Iq2ifMqyM/2jGE9iCcOtOOYftH6wSHDx92L730krv00kv9NaTab6N9CD2ShjLQb05yMi/VqlUrafvm1mei9+mv9NFy5cp5A2jExYNXXnnFtznODvXjoK7IShuFeRjIhlGcNWuWGz58eFY/Ze4k37D+zAdhG7OTErYtcyxtG9d342Qhf2QlLDpmqBuGnzaItm8c0TFG3shBPujqzjvvzOoz4fgO5WIsPP300z7c+gv1WLZsmc/PdhOxG8gV1zbpQrEYfgw+g5sjGXSCH//4x361SOe+7LLLXJcuXdwPf/hD99RTT7mrrroq2/XXX3+dSJm+0LkZQEysvXv39h2egR/CQGWyBTMCOcGgYCAyIfIvItevX++NVbt27Xw50LhxY/8L3bt3T5x9g8VlsLHiTgXqwgTD4OTgnDCIloGM1Iv8QywexgZ9UDaTPZMJebHyp15MfjnBZETepq+wPI5rrrnGhxtReViE2SRveTGh1q1b14cZTLzoCTnZ5Xrvvfdi62X06dPHPfDAA2d4Wzlhxi1OJ8mItl9cn8B7YvINPTYDw4E3Rlwm5NxgIrdFnZHXfgvIgR6RGfnRL0Y3mZxGsvbNrc+k2qeSxWMhRr2tfrQVi3jgN253tFmzZl735IXni7ykt4VytP5R4to2ru/GyUIcdkjM0y4I0TGG7Db+cyKUCz1UrVrVz0/WX5CTc2Bno2PHjn4Bke4Ui+Gno1xxxRXeU4/boqfh/ud//sdvSU2fPt03Xvny5d1dd93lVq9e7Z5//nm/aAivDx48mEidvrDKZwAxsdnkFt3uJ5xBBayoozAxs1ggzqFDh3wYkwODn7TmKRCPSYK47MgUBeRL/hxMWjYZxYHxsXrFMW/evCy94DGwbYwnQr2oX16x8pDNtoJDQnnYhWFiBiZkoF3wPELo53gwyIiX07Rp0xzrxaRIe7DAYRszN4gzf/58P0FCVCd5IdonkIUFBAt2xqyBfmzXAm/LJuG8Qjmmh7Dfmj7tN0r//v2z6mgeZ5ycgIdqC6C49s2tz8TdJz3vNIVGO9W+h8y2a0dcxlteiat/bsT13WSy0G/YpXjhhRd8XQ3SYJSjkA/p4Z133vG/ybDxnxOhXIwp7EKyd0KYPxhzLHBYqMS1TbpQLIb/3HPP9c+z8GhYBNAQbD8ZbNt///vf9xPaww8/7OPTuViZsgJlBf7pp59mu+avA9Id2+Y3km33s4uCziGc8M2wMmiJA4TRDoSRJlwt8xyVcFbmqW41G0yytF8yg0V+5Ev+HMiQzPATjreER4mM0Tx5wcg8H/P00A3lk7d5XeTDS6e5edDEwyulPBawPHYKicrDlqPp5+233/ZhXbt2dffdd1+2SYpnktY2eG9MSNF6hTLSFoSzxcv7MFxHvRkWaJYeHfDuDEY6TiepwpiN9onQq7fn5GAeLOEc5vGH7Z+q3qP9ljpPmzbNh1EvgzLpm4Duuc9BWcnkBOrDGErWvrn1mbj7GCPqikxGXLw48FitfrRxXg0UfS5af/LAsIfP+EPQTVzfjZOFPmM7FxdccEG2OqIXFutRw838dMstt/h8ogvfkHD8IxPtFjdn0I/Z2SQ/+kdOf21AGxHPFr/WNixi0EdexkCph6/zFSbbt29PnInCpCTpNXPFnpE54DKOHTuWCElf0EWmEfK/+UG6LFlMnDgxY8mSJYmrgkGb0rb57RulHfSIPksipb1tCmoPisXjF6I0gxdjbxLjGeEh4eHkFTwX0uM9h96SKD54DJDXxx7JoE3ZXs9P3ygLoEf0WRJJ97bR9/hLCdKrEEIIKKg9kMcvhBBCpBEy/EIIIUQaIcMvhBBCpBEy/EIIIUQaUSQv9wkhhBCi6CjIy316q7+UIL0KIYQAvdUvhBBCiJSR4RdCCCHSCBl+IYQQIo2Q4RdCCCHSCBl+IYQQIo0oVYb/2LFj7u9//3viSgghhBB5pdgM/5EjR9zgwYPdRRdd5I+HHnrInTx50n/5jG8/8/3lkM8++8z17NnTvfrqq4kQkQz7VnuqED/8xnVJxb6KxxH9zneqoJfSUFchhCgqisXwf/31127UqFHusssucx9//LHbvXu3++CDD9zs2bMTMc6kWrVqbunSpa5NmzaJkJwh3169ern9+/cnQtID6os+N2zYkLJx5POUefkU6dixY4tFrzt27PCLvyVLlugztkIIkU+KxfB/9NFHbvv27e7WW2915cuXd1WqVHFDhgxxq1evdl9++aXfzv/Nb37j/0FBt27d3KeffuoNDZ4ev8uWLXPNmjVzTZo0cYsWLfJ5kvbqq692DRs2dIsXL3bDhw/38W6++Wa/CEgXNm3a5Dp37uzq1KnjDSXg4Y4YMcLriyNqtM0LjosXfnueeByPPvqoa968ud+VYbeAezVq1PDXpCGMXRvCzbvmHnEsjHiUYflGIYx7dp/4/fr189/3Jn8jzDcMN6LlGnHpuM+11T16LYQQZYFiM/xVq1b1W/xGxYoV/Vb/qVOnvLH5yU9+4hcHjRs3dsuXL0/EOr3l/9RTT7k///nP3vN7+umn3c6dO924cePczJkzfRoWCxgndgeeeeYZd8kllyRSl31WrFjhOnTo4Dp16uRWrVqVCHVeVytXrvSPV+bOnZsIPZNoPPOyeTSD0eUYOXKk27x5s2vRooXfLeDerFmzsspbu3atGzBggFuzZo3fxWHhNXnyZJ+GuOwusDibM2eOv6a9Q8PK+bZt29y+ffv8wTkQn0UAZRrIcODAAR8PwnzIN1quEZdu48aN/j9ibd261dWsWfOMayGEKAsUi+HHEB8+fNgfxvHjx733f84553gvC8+9XLly3nPds2dPIpbz53hr9qyXhcD777/vqlev7hcJ6QzGC8Pdvn1717t3b7/jYdv9GHKMV6NGjfx1MqLxMJAYzWRer3nmlGe0a9fOy0A+3Dt69KirV69eNuPJowjicH/SpEnZ8ua8devWfjufg/O4soFwZKtVq5ZfcITElWvEpRs0aJDr2LFj1g5E9FoIIcoCxWL42WK96qqrvEfJtj4T9MSJE911113nKlSo4L744gt38OBBvwOAt8YiwGDRwDUGDk+M5/4YKTy3d999NxErPWGbH8ONoTZjbdv9BQEvn12A6dOnJ0JOwwKMhRhlzZs3LxEaz/r167MZbx7vsCNAWjxvFhgh7PKwaOFgkRBnvGH8+PF+J4D2Z8ERJVquEZeOMuhTLEaoW/RaCCHKAsVi+M8991w3evRot2XLFv/SHosAvD+2h+H88893U6dOzfL627Zt68OBRcPAgQP9c2ye6fOSYO3atd0vf/lL16NHD78IYMsZw4K32KdPn7R5xm/b/EZ0uz8/2LNw3rdo1aqVD0OvPONngWaGMfT4o5B+2LBhPg/i8uycdwl4Zs919C19FgF4+XjjHN27d09q+KkjfSfO4ydNtFwjLp29rzB//nzXoEGD2OswDyGEKI2Umq/zYWB4YY9n+mzrpxv6Op8QQghIi6/z4f3feOON/s/z0tHoCyGEEIWFvsdfSpBehRBCQFp4/EIIIYQoHGT4hRBCiDRChl8IIYRII2T4hRBCiDRChl8IIYRII4rkrX4hhBBCFB0Featff85XSpBehRBCgP6cTwghhBApI8MvhBBCpBEy/EIIIUQaIcMvhBBCpBEy/Hng5MmT/lO0QgghRGml2Aw/3zavX7++a9Kkibv11luLzaDyfXVkSYVnn33W3XHHHe7EiROJkJKFfTufb8jzy3VB2L9/v/9WPr85QTl9+/bN9k19kZzHHnvMHyUR2pA25yjs9qQfMdai+RLGOEwXNF5EscOf8xUm27dvT5zlzJAhQzKWLFmSuCo+kAFZkjFlypSMJ554InFVfKSi102bNmVMnz4963z48OH+PDf27duXMWbMmMRVauQnTUkCPaGjoqC4dVOQuoV9qLBBL4y1Y8eOJULyB7olr5CzpfO4snMit7bIb1vlJkde5RSli1TtbDJKjOGnk3bo0CGjf//+GbVr1874xS9+kXHq1KmMTC8ho0ePHhlXXXVVxogRIzI++eSTjF69emU0bNgwo02bNhm7du3y+ZC2W7duGfXr18+YO3euz/OFF17IaNy4sY/3zjvvZCvTzs3wHz9+PGPYsGEZTZo08Xm/8cYbGStXrszI9Jz9wQCdOHGiP5Br2rRpPu/LL78847//+799GPf69OmT0bp1a5/Htm3bfFmFQV4NP/VCHuC3SpUqXl70TLxLL73UH+vWrcu4/vrr/X1+3333XV8HdPbcc8953ZCGydri3XbbbWekId5HH33kf1lwcM/KJz1lE8Z9CzeQlXthGpORMO6H5ZNH9DpMw8F59NoIy+M8lM90FJJK2cjNeZcuXfzBPeKgE4treVvbcE4a9M19wkO4Rpcmm90nDddWL/KxNmPC557F5+A8rl7IYHFNHivL6gVhfcM6mGxxeYd52X2OsL5WBmWTX5xeo2Emc9imYRx+Q51H2x5C2YljZZM/6aK6MPmjZZtuwzLCMOYFzjkIN0wPCxYsyHbf0lp5Rlg/ZIjKQV7hdfS+XUfzFaWXUm3469Wr5zsjxooOycT12muvZbz33nsZXbt2zThw4IA39uPHj/eGNcro0aMzZsyY4QfMdddd5xcFdPSf/exnGXv37s3o2bNnxqpVqxKxsy827JyD85B58+b5csEGWniOQe/evbsvj4Nzwrh3xx13ZJw4ccLLNmnSJJ+uMEjV8DPYGeRWJ/RqnhD30XXUywjjWDtw3yZDwqib6Q6iaYhnEy5xCeM8mpZ4XMcR5mPlGtHyre3A6hOtV/Q6JLwX5s1vVL5UyiYOMgNym25CLB8rg3j0f67JA4OIzg3CbbI23UTvWz7WZhDWDTm4HyXML2xn0pE+GWEdTDbCOEIsHoRyWn0B42u6szztXqhXCzPi6sS16Zz4Jg95UE4I96N6tb5rZcXJD1Y2OvvVr37lf61syytso7AtjDBeKm3F/WibxMWNk5ODc4jLR5ROCmr4i/XlvilTpritW7e6gQMH+uuqVau6unXrugoVKrhzzjnHZQ4M9+GHH7pOnTq5cuXK+ThHjhxxmQPZtW3b1s2ZM8cdPnzYh2d62O7iiy92NWvW9C/hEf/uu+/2cW+55RZ38OBBHy8ZpHn44Yfdj370Izdu3DhfTjJ27tzpMg2sLw+Zq1Wr5nbt2uXv8d+Uypcv7zKNr8/zbPPrX//a/1en3bt3+2eqHJkLEP/cv3379m7Dhg0u08C4Bx54IOm7Dc2aNXMNGjRIXJ2G55EtW7ZMXCUnczHnn19Sf84hTJu5SPK/IfZuArpD7qNHj/q0tKURLT9zoeV69+7t63XPPfe4zAnujHrlVk8jzJvf6LPXVMqGuLoB5RN31KhRiZBvaNeunW8X6kqcKIMHD/b30CdjA3g/gLjIYMS1GQwaNMh17NjxjHcK6BetW7d2lStX9gfnhCUjrg4mW6NGjRIh35BMp1ZfyDS+/teI02tU96mQueh3HTp08OfohDEabdM4vdLnrKxk8hv00blz57patWr5frt+/Xo/L5hO80OytmrRooWfj3gfKq6N4vqDETf+hSjRb/VXrFjRXXTRRe6VV15hZ8KHrVu3zh06dMitXr3a/fSnP/VhkLlid8ePH/eDr1KlSn5Aszigo7MIeO2111ydOnX85IJBZuCGbNmyxW3cuNEtWrTI3XnnnYnQeC677DJ34MAB9+mnn/qFx2effeZfVCwpMKENGzbMT0zQv39/P3FwsNhiYsr0DryhSvWlKgxypseQuMobYVr0H8KEOnnyZLd582a/YLHFAhNpOMnFlT9v3rysemV6a2fUK9V6hnnzG524Uyk7GZSLYSTe6NGjE6GpY/rasWOHXySjpz179vj8kCE36AukY+KPvuy5fPlyr38Oxglx48hPHZLplHDGHmVSfpSoXuN0nxukXbVqlT9Hb4zRaJtG9Roltz4BLGJYnFAe/Yx5x3SaH3JqKxZCK1eudJkeeyLkNMTLrT9Ex78QxWr48SLsrX6MdhQM9r//+7+7BQsWuCuvvNL94he/8Cv4t99+27Vp08Z3eOP99993N954o8+LfNkxGDp0qGvatKlfFFx99dX+/lNPPeVX1Rj6EAw3f1nAip1FgsGE9/jjj7sZM2YkQk57Kt26dXP/+I//6BcXnJe0/6Mfru5Z8DCZcDCJm4fAbgjeDIskDC1vcif76womfOKTDv2mksagHdh1IS1/GRHChIqO0Z95/Hj/LFy4Npmj5Q8ZMiTLkzFPKFqv6HVI7dq1vY6ieZMneYekUnZIqBt2oqZNm+bjxnn8uUFfJ23Xrl3dfffd55o3b55lHOI8PAjrhrzEnT9/frYdAbxI+joeKweLo2SGH93ltQ456ZQ6UCblI4cRp9eo7oE+Qx6hcQx1/vOf/9wtW7bMp+nXr58bMWJEItY3RPWK0Q5JJr+VjWzojHoQh74W6tT+qiZsizhSaSvysR2xVq1a+TCTg7EX1x/sPkTHP/nprwrSmzLxkR4688KFC8v0arasfKSHyY0JMycvWZyGfo1nirdXlsEwY6zDRUBRki56FWUXfaRHlHjM8+YAGX0BeM149mz9ny2jL4TQZ3lLDdKrEEIIkMcvhBBCiJSR4RdCCCHSCBl+IYQQIo2Q4RdCCCHSCBl+IYQQIo0okrf6hRBCCFF0FOStfv05XylBehVCCAH6cz4hhBBCpIwMvxBCCJFGyPALIYQQaYQMvxBCCJFGyPALIYQQaUSZM/x8n/rkyZOJKyGEEEKEFJvh57vsfBc7GXzKlSMvnDhxwt1xxx3u2WefTYSkJ+g21B165prPoHLv888/T9xJDdLdcMMN/rekQb1y6kepkkw3ceGhPuLKf/PNN/035u23sEAGZEmlHYhXGHo5m6DLsN8WJdY+Ian2JRtPeSXsN3mF9uQTxvlJezbIr05CUtV/YVHY47M0UaY8/vPOO8/Nnj3b9evXz3388ceuV69eJXagFBXUd/fu3W7Dhg15NvDJqFmzpluyZIn/LassXrzYDR061FWuXDkRkpxU9cE35hs3bnyGgaGNxo4dm7gqGqZMmeKuv/76xFXJBd3MmDHDn99zzz3+KKvkdxzRX+rVq+e2bt1aosZg2HYFhToyX52NPsvYo7xk4zMdKHbDTwN07NjRDRgwwNWpU8c98MADzv6nEMbrhz/8oWvQoIF7++233ZEjR9zAgQNdw4YNXd++ff01K8SuXbu6H/zgB27BggU+/JVXXnHDhw93y5YtczfffLPbsWOH+6d/+ifXqFEjd+2113rDmKzc1atXu6uvvtqXsWLFitgySzKbNm1ynTt39nWi3slAbxdeeKE/8CbABgQDgboyEImHXs3T5JpVMt5H6IGwWicv9EtaCzfsPod5BvyOGTPG1ahRw3tClMfBeShXCLIRn/uhdxCGWzqro8kZvTYoc+/evb6fAemJhxw8OoJBgwb5MGQmvunDCOV+5JFHEqHOtWrVym3cuDFxdTrebbfd5h599NGsOsfpJsTud+nSJav/UTb1iMpEnlxzhO0G5uWaHtBXdNIL25c4XEfzDss2XXIQh7YnnHPLLywrzIu2Z5GOsSeMuOQP/Ib5W/vGyUzasIyoLOQLJgt57tmzx4dFef3117OVg7zWrlYnID35xMUjfOfOnT4+sgA6Xb9+fVYYB/EsvoUhM2PIZCbfsL8sXLgwKw7xTU8coe5MJ/xaHLtvRGUmP8rNaXxbPoSHbQdRnYClC/MP5TeYtxgrQBqbF5LpNy6vuLKidSEOumzevLnPNzo+04US4fF/9dVX7l//9V/dunXr3BtvvOG9dcCDX7NmjW/c5cuXuz/96U/uO9/5jtu2bZtfqf3lL3/x8fbt2+eee+45PzFCxYoVfeO2adPGPfPMM35C/+Mf/+jTsUhgQQDRcvlvSOPGjXMzZ85027dvd506dUpaZkmFxUqHDh287KtWrUqEZgdjxgRCfTEkVapU8YMAb5cBePToUb9w4JdBwSAJwWtZuXKlGzx4sJs7d64fUOiHdnjyySfdrl27EjFPE97n4JwwYJHGJIlHQ1tzDBs2zMvVunXrrAkEGPyTJ092mzdv9vdD74DV+4EDB3z+QP7ITh3NU4peG9SzXLlyvv5MFiwQyZ96VqpUya1du9YvEJGNxagtBkK4x4LL5CZPoByTCSiD/jVy5EifP/GS6QaS6ZYdijlz5vjy0At1Z0GL7sxrrlChgq8LbUo+F110kR8LGDfyQ4+LFi3ycUOsfdEV/YT6hnnT5hMmTPBl88s1mJ4Ip09h6OLKsrwefPBBXwcmY3YoDGSlTuTDfepK2y1dutTXk7YOIS1xZ82aldXnwzabPXu2n1Osz1O3aB81rD9S1tNPP520P5qO7r//fl8m7UoY8RgXzB9R3YfjKJkOkYt2tr4d7S/nn3++O3z4sHvppZf8/Zz6DmHoGqg399GrEZUZWcHqFje+rRyItl1UJ3HtCCZ/OAZZeNeqVStxdWY7JJM11EVcWdG60H/RJf2RfhQdn+lCiTD8VatWdXXr1vUT1TnnnONOnTrlw2kYOnq1atX89auvvuqmTp3qmjZt6v7whz9kTa7XXHONq1+/vj+Pg87ADkDbtm19p6CzQLRcBkn16tW9gTeSlVkSYaDR0du3b+969+7tFzjhQDeoA4bWBh6LBDo/CwYGIJMEOy1MnuyCMImHMIhIy8QGlMukyODEsDRr1syHG+F9Ds4JAyZVwiwvJhVkZ+XOIA0HZVTuEPJjVc/kgdyAl86uDpNT3HUc1B89hLRr187rlHKRK44wHb9RnSUjJ91AeD/ULQsQZEKeSZMm+XjopmXLlv6+gSwsBpko8W7QIRMgeuJffmKco33E2pc6MD4gzJv4ds6vpTc9AWPo+PHjZ5TFIiJOzhDqQp2oG/lR1z59+vhdOfMuQ2hP4tJvjGibhX2HgzkjDuuPxMFYJ+uP0TEA5mWPGjXKX0d1H5JMh7Sv7TwlgwUmMubUd7p37+7DGBNhf4zOX1GZIafxHS0nJC5dtB3B5M+JaDtAnKyhLuLKimsnUcqe8dN4Q4YMcVu2bPFeG1vwqYBHf+jQIb+N/9Of/jQReiaXXHKJH9jvvvtuIiT/ZRYHTDB0dBY6HAz6ZNv9TMI2eJmcmJwZIPPnz3fvvPOOnzhZ9NSuXdt7vbnBjgyTFxOLeRkhdp+DQUlZyZg3b15WHaLP/EK5Q8aPH+8XdbQfsgNl0GZMBnhq0WuDSZEFDrJRZrKdkpwI0yGDTbDIGnoyceSmmzjdIjPeKOXiBUd3ZQwWz0yceLtmaNAPMpKWhWJ0EjaPjr6DvqIgg3lc/Fp6wpERWZEZomWl0pegf//+Pg0HHiVlkB6Dxq6MQTuyxUw8+k1OWN9BvmRb/VZ36mW6zqk/GuFO0ejRo31YnO6NZDrMK3kZV1HiZE5GfsuJtmMymGfoJ0a0HVKRNdWyQlIZn2WRUmX4aVg6At4Dq9i4SclgYmQw4SngxfOOAFv/yQY88Dzpl7/8pevRo4fvZEzkeSmzuLFtfiPZdj/1ZEVNnTCCbOvbthdeEenQH7qKeipxkJZ8GEBxBoj7eAnc52DyTjZxsMiylbs9lzNIE8odGgBkZqVP/ubxm4fAYgYvKnpt0E/YBcLQUT47JcTjmWLctn4cPI6aNm2aT8fuknlYbFFHdcg9jBD5I0dOukmmW55d8ow1FTmtfPLloAzyI23c7gdjhXs8FrvvvvvOMNZMvNSROLQVOjOQkbypE22SW1nIw1Y3bWNQZ/okaThoZ/PqKTc0oujPFnOhxx+FPo93SN+54oor3AcffJC4kx3+IsjKoZ459ccQZLL2Dz3SUPchOekwVfIyruJIJnOUZOXEtV1IXDsmg3yZv4xoO+Qma17KYrzTT1k02vjknDHMwiYtyPR0CpXt27cnzkRhUlr0mrlIyshcbGUcO3YsEVI6yPQ2MjIn30KVG11kTlyJq9JBpledMXHixMRV6hSF/kR6Qb+z/sdvUVMax6dRUHtQqjx+UTLBC8IbYqVtXmJ+ty6LC7wX21IuLPBCeAQhhMgd3qE4G3/OZ6Tz+NT3+EsJ0qsQQggoqD2Qxy+EEEKkETL8QgghRBohwy+EEEKkETL8QgghRBpRJC/3CSGEEKLoKMjLfXqrv5QgvQohhAC91S+EEEKIlJHhF0IIIdIIGX4hhBAijZDhF0IIIdIIGX4hhBAijZDhzyMnT55M+VOtQgghREmj2Aw/33CuX7++//77f/zHf3iDGgdffuN748m+g11UJCuX70Tfcccd7sSJE4mQkoN9t9zgOu671Gfz29PIE/cd9pxA5/SP3OQjTk7f3c4LlEV7cxSGXpAtp++35wYykIfpwuoZ5lvQMvJDtI8JIUofxerx8xnUbdu2ua1bt7qXX345EVqy6devn5s9e7Y777zzEiGlDz5HOXfu3LPy6Vw+tclRFNB/cvqM59ixY1M2ijt27HA9e/Z0S5YsKbBeKJMFLf2az/0WFKtnmC8UZhlA/ugsv+Ql/YwZM/wCVAhx9in2rX4m2erVq7svv/zSLVu2zDVr1sxdccUVbsSIEdl2AT777DPXpUsXP1kQ95ZbbnF/+ctfXMeOHd2AAQNcjRo13P333+8n78suu8z9+c9/9un27NnjunXr5ho0aOB+9KMfud27d/sJ6sc//rG76aabvNeEB9OnTx937bXXuiuvvNL99a9/9WkpZ+TIka5OnTpenq+//jrLgz1y5Ij3mhs1auR3LMgzN1mKC/Nm+V4+siMr9f7444/9L3Wze8B9+76+6ScEr497YRojWpZ5iFYmOuOeebCploVOo4bC8uegDuRjHjD3Hn30Ude8eXOfLpqPedTIOmbMGL+gY4FCGEe0zGj6ZHKR72233ebLJm90bPqIKztaX66JS1+nj1nYggULsvLt2rWr++d//uesMnbu3JmlQ8uPXysjlIEwu0+9kcnihHIjoxG20cKFC31Y2M7cQ4Zk9bY2MdAdum7fvr1fgCIT+Zle3nrrLf9rfcVkDuWwenIvjCOEyJ1iN/y7du3yA7pq1apu0qRJ7vnnn3fbt2/3E0e4C1CtWjXXtm1b98Ybb/j4LAow0l999ZX7t3/7Nz8hLVq0yE88kydPdvPnz/eG+vHHH/eTOh7d4MGD3RNPPOHzO3jwoJ9Y8Kbg/PPPd//7v//rJ5SpU6f6tMeOHfPb+mvWrPHlksZ49dVXHf/0cPPmze5Xv/qVD8tNluLCvFkMSdT7ZiHEwob/BMXCC90yGU+YMCHL8ETB++QeadixCY1ETmWtXbvWL4zQ5+zZs326nMriXYrXX3/d7du3z+sZnSYDT33lypW+jcmTslm0kY5FX1w+1H3YsGHuwQcfdHPmzPFtT3/gQJ5Zs2a5VatWeZ3QpqQ/cOBA0vyAhezMmTN92chEvM6dO/v8li5d6p5++mkfz8oOdUQ56JN8n3zyST82jAoVKmTlSz6/+93vsspARuSnDHRKPobJQFncb926ddZC5ZVXXvEGm50D4oRyh7secW3EfeIRhs4Zs2H6Sy65JNv9TZs2JVKe7j/omn7AGEQm+g1HlSpV3KWXXprVV0hPGDIvXrw4Wz1ZICA71zaOhRC5U6yGn1V6jx49/ACvWLGin0zYtixfvrz3pLds2ZKIeZqf/OQnbsOGDW7dunV+Z4AJgQUDaUj/ve99z5/Xrl3bP4Nnl+DDDz90TZs29emZsLk+fvy4j4OHb7D9Tbm8d8B90n/729/2uw/IxcQbQlomHco0LygnWVgUFDW1atXy3k8U6sbkGPW8gDow+aJLzoFJtWXLlv68e/fu/jeESRhPkX8ZiQELyamsdu3aeS8PvZicOZV19OhRb3SoF2WtX7/ex48D40K+9JsocfmwqKC+VnYIRgn5evfu7a+pB8bJjGFe5Nq7d6/r0KGDP6f/0UeSlR2WQ1z6eCowJtArMrN4Nr2bPllMUBfus9BgYQEsBigrTmchydrIvO1Ro0YlQrKT232jVatWbuPGjV6vP//5z32Y9RVo3Lix/43W89SpUz5tdNdFCJEzxf6MnwGPh4jXycBn0sKbZ7Iyg20wQbH9joeV07NdAwNMvraAwKOoW7euD4/CIwE8eDwXdhfi4oRUqlTJ/dd//Zf7/e9/772QkvKm//Lly7OM0IoVK7xxAiZ8POLp06f765zAmJuHRjuEkDe7GHi6ePy2WAgprLIAA4ChYjER9UTzQjQf2i8ODAh9gXjz5s1LhGbXK6QqF/fxyIH+d/jw4aRlg5XDWIguqpLBog3vmbLYkWDxFYW6cJ8jlbETEtdGbNczHslv9OjRPiwkt/shLHJYILHrwDlQJjpAF+gE4upJXdi1eOGFF7K1jxAiOcW+1W+wvXfXXXf554J4Ot/5znf81n4IK32e2WL8GzZsmAhNTrly5bwRwjgzoWCg77777sTd7LBt+A//8A9+S5PtfdLmBLsOV199tbv11lv9Vm5uC4WzARMhHqN5/kychIUeOh5SbgwdOtS/Q0Ee/BVDiHmI5MURNU6FWRb54GFafey5bqogK/2FxWSq+dBPeGGOeObxh3pFprzkN2TIEP8IhXg8cuJdhGRQDvHIF7lThTzJm7TR5/OADHjI3I/biTEwrOxeRPOIayN2AKZNm+bDzKMP0zM+o/dD2AnDe2eBQDtdcMEFPjxcQKEDdIHu0U20nvZuA3FIT38nPFn9hBCnKVVf50PUcePG+UUCk1lhYRN3+Ly1pFGUes0Jtmsxcnn1EvPD2SxLlCww6mzzY+Ax3CwWJk6cmHQnRYh0pqD2oMR4/Lnx0Ucfueuuu8793//9n38DXxQd9oybA4rSEJ/NskTJAyOP1267U0KIokff4y8lSK9CCCEgbTx+IYQQQhQcGX4hhBAijSh0w8/b8Px9rRBCCCEKF+xrbn91lhuFbvh5C5e/sxVCCCFE4YJ9LehfuxS64b/44ov9v9s9dOiQPH8hhBCiEMCeYlexr9jZglDob/UD/2Dn008/9f8EpAiyF0IIIdIKtvfx9DH60X8hn1eKxPALIYQQomSit/qFEEKINEKGXwghhEgjZPiFEEKINEKGXwghhEgbnPt/WYk9fJ8fwX4AAAAASUVORK5CYII=)"
      ],
      "metadata": {
        "id": "ytiJtdyjshd6"
      }
    },
    {
      "cell_type": "markdown",
      "source": [
        "**2. Classes and Objects :**\n",
        "\n",
        "**2.1 Creating a Class and an Object :**"
      ],
      "metadata": {
        "id": "3XX4JPoSst5o"
      }
    },
    {
      "cell_type": "code",
      "execution_count": null,
      "metadata": {
        "colab": {
          "base_uri": "https://localhost:8080/"
        },
        "id": "JHgvCsskoOQ1",
        "outputId": "b3044c3e-884e-426c-cd99-a412d2ff7a88"
      },
      "outputs": [
        {
          "output_type": "stream",
          "name": "stdout",
          "text": [
            "Car Brand: Toyota, Model: Corolla\n"
          ]
        }
      ],
      "source": [
        "# Defining a class\n",
        "class Car:\n",
        "    # Constructor method\n",
        "    def __init__(self, brand, model):\n",
        "        self.brand = brand\n",
        "        self.model = model\n",
        "\n",
        "    # Method\n",
        "    def display_info(self):\n",
        "        print(f\"Car Brand: {self.brand}, Model: {self.model}\")\n",
        "\n",
        "# Creating an object\n",
        "my_car = Car(\"Toyota\", \"Corolla\")\n",
        "my_car.display_info()\n"
      ]
    },
    {
      "cell_type": "markdown",
      "source": [
        "**2.2 Adding Attributes and Methods :**\n",
        "\n",
        "Attributes store data, and methods define behavior."
      ],
      "metadata": {
        "id": "VTWqmJy1tYFz"
      }
    },
    {
      "cell_type": "code",
      "source": [
        "class Dog:\n",
        "    def __init__(self, name, age):\n",
        "        self.name = name\n",
        "        self.age = age\n",
        "\n",
        "    def bark(self):\n",
        "        print(f\"{self.name} says Woof!\")\n",
        "\n",
        "# Create an object\n",
        "dog1 = Dog(\"Buddy\", 3)\n",
        "dog1.bark()"
      ],
      "metadata": {
        "colab": {
          "base_uri": "https://localhost:8080/"
        },
        "id": "Rrpi5c3hs61s",
        "outputId": "5fdad0c3-5be5-4c6e-d8e0-4bedd4a39dd4"
      },
      "execution_count": null,
      "outputs": [
        {
          "output_type": "stream",
          "name": "stdout",
          "text": [
            "Buddy says Woof!\n"
          ]
        }
      ]
    },
    {
      "cell_type": "markdown",
      "source": [
        "**3. Encapsulation :**\n",
        "Encapsulation restricts access to certain attributes or methods using private (__) or protected ( _ ) prefixes"
      ],
      "metadata": {
        "id": "YVUDOB49t7H8"
      }
    },
    {
      "cell_type": "code",
      "source": [
        "class Account:\n",
        "    def __init__(self, owner, balance):\n",
        "        self.owner = owner\n",
        "        self.__balance = balance  # Private attribute\n",
        "\n",
        "    def deposit(self, amount):\n",
        "        self.__balance += amount\n",
        "\n",
        "    def display_balance(self):\n",
        "        print(f\"Account Balance: {self.__balance}\")\n",
        "\n",
        "# Creating an object\n",
        "acc = Account(\"Alice\", 1000)\n",
        "acc.deposit(500)\n",
        "acc.display_balance()\n"
      ],
      "metadata": {
        "colab": {
          "base_uri": "https://localhost:8080/"
        },
        "id": "7aAbwPittg1i",
        "outputId": "41526323-96b0-466d-c587-71a2f4ca681a"
      },
      "execution_count": null,
      "outputs": [
        {
          "output_type": "stream",
          "name": "stdout",
          "text": [
            "Account Balance: 1500\n"
          ]
        }
      ]
    },
    {
      "cell_type": "markdown",
      "source": [
        "**4. Inheritance :**\n",
        "\n",
        "Inheritance allows a class to derive attributes and methods from a parent class."
      ],
      "metadata": {
        "id": "UR7cQ7NOuVIa"
      }
    },
    {
      "cell_type": "code",
      "source": [
        "# Parent class\n",
        "class Animal:\n",
        "    def __init__(self, species):\n",
        "        self.species = species\n",
        "\n",
        "    def make_sound(self):\n",
        "        print(\"Some generic sound\")\n",
        "\n",
        "# Child class\n",
        "class Cat(Animal):\n",
        "    def make_sound(self):\n",
        "        print(\"Meow\")\n",
        "\n",
        "# Create an object of the child class\n",
        "cat = Cat(\"Feline\")\n",
        "cat.make_sound()\n"
      ],
      "metadata": {
        "colab": {
          "base_uri": "https://localhost:8080/"
        },
        "id": "05bfOZsJuIW0",
        "outputId": "a770ef3c-6bb3-4ddd-d05d-62cb26cb0d91"
      },
      "execution_count": null,
      "outputs": [
        {
          "output_type": "stream",
          "name": "stdout",
          "text": [
            "Meow\n"
          ]
        }
      ]
    },
    {
      "cell_type": "markdown",
      "source": [
        "**5. Polymorphism :**\n",
        "\n",
        "Polymorphism allows different classes to use methods with the same name."
      ],
      "metadata": {
        "id": "D_ZddMyuuqj9"
      }
    },
    {
      "cell_type": "code",
      "source": [
        "class Bird:\n",
        "    def fly(self):\n",
        "        print(\"Birds can fly!\")\n",
        "\n",
        "class Penguin:\n",
        "    def fly(self):\n",
        "        print(\"Penguins cannot fly!\")\n",
        "\n",
        "# Using polymorphism\n",
        "for animal in [Bird(), Penguin()]:\n",
        "    animal.fly()\n"
      ],
      "metadata": {
        "colab": {
          "base_uri": "https://localhost:8080/"
        },
        "id": "sGQt2GiIubtt",
        "outputId": "7d8803ff-784a-4797-b365-4560de20971c"
      },
      "execution_count": null,
      "outputs": [
        {
          "output_type": "stream",
          "name": "stdout",
          "text": [
            "Birds can fly!\n",
            "Penguins cannot fly!\n"
          ]
        }
      ]
    },
    {
      "cell_type": "markdown",
      "source": [
        "**6. Magic Methods ( __  str__ and More) :**\n",
        "Magic methods are special methods that Python uses for built-in operations.\n",
        "\n",
        "Example (__str__):"
      ],
      "metadata": {
        "id": "ipbeN1Slu28Y"
      }
    },
    {
      "cell_type": "code",
      "source": [
        "class Book:\n",
        "    def __init__(self, title, author):\n",
        "        self.title = title\n",
        "        self.author = author\n",
        "\n",
        "    def __str__(self):\n",
        "        return f\"'{self.title}' by {self.author}\"\n",
        "\n",
        "book = Book(\"1984\", \"George Orwell\")\n",
        "print(book)"
      ],
      "metadata": {
        "colab": {
          "base_uri": "https://localhost:8080/"
        },
        "id": "mlpUYqgkuwHS",
        "outputId": "b0033967-80bc-4157-e72a-a95ec42d263d"
      },
      "execution_count": null,
      "outputs": [
        {
          "output_type": "stream",
          "name": "stdout",
          "text": [
            "'1984' by George Orwell\n"
          ]
        }
      ]
    },
    {
      "cell_type": "markdown",
      "source": [
        "**7. Abstract Classes :**\n",
        "\n",
        "Abstract classes define methods that must be implemented in child classes. Use the abc module."
      ],
      "metadata": {
        "id": "uxUemZUIvQwA"
      }
    },
    {
      "cell_type": "code",
      "source": [
        "from abc import ABC, abstractmethod\n",
        "\n",
        "class Shape(ABC):\n",
        "    @abstractmethod\n",
        "    def area(self):\n",
        "        pass\n",
        "\n",
        "class Rectangle(Shape):\n",
        "    def __init__(self, width, height):\n",
        "        self.width = width\n",
        "        self.height = height\n",
        "\n",
        "    def area(self):\n",
        "        return self.width * self.height\n",
        "\n",
        "rect = Rectangle(10, 5)\n",
        "print(f\"Area of rectangle: {rect.area()}\")"
      ],
      "metadata": {
        "colab": {
          "base_uri": "https://localhost:8080/"
        },
        "id": "Jzu0Rt8LvIps",
        "outputId": "1d33d13b-63f5-4ef5-c336-2555357abbec"
      },
      "execution_count": null,
      "outputs": [
        {
          "output_type": "stream",
          "name": "stdout",
          "text": [
            "Area of rectangle: 50\n"
          ]
        }
      ]
    },
    {
      "cell_type": "markdown",
      "source": [
        "**8. Exercises :**\n",
        "\n",
        "*   Task 1: Create a Class\n",
        "Write a class Person with attributes name and age and a method greet to print a greeting.\n",
        "\n",
        "*   Task 2: Inheritance\n",
        "Create a parent class Vehicle and a child class Bike. Add attributes like speed and methods like describe.\n",
        "\n",
        "*   Task 3: Polymorphism\n",
        "Write a program with two classes (Circle, Square) and a common method area.\n"
      ],
      "metadata": {
        "id": "MDzK7Ot-vkzF"
      }
    },
    {
      "cell_type": "code",
      "source": [
        "import math\n",
        "\n",
        "# Define the Circle class\n",
        "class Circle:\n",
        "    def __init__(self, radius):\n",
        "        self.radius = radius\n",
        "\n",
        "    def area(self):\n",
        "        return math.pi * self.radius ** 2\n",
        "\n",
        "# Define the Square class\n",
        "class Square:\n",
        "    def __init__(self, side):\n",
        "        self.side = side\n",
        "\n",
        "    def area(self):\n",
        "        return self.side ** 2\n",
        "\n",
        "# Polymorphism in action\n",
        "shapes = [Circle(5), Square(4)]\n",
        "\n",
        "for shape in shapes:\n",
        "    print(f\"The area is: {shape.area():.2f}\")\n"
      ],
      "metadata": {
        "colab": {
          "base_uri": "https://localhost:8080/"
        },
        "id": "zNjcfcyBvWAK",
        "outputId": "0c09e8e2-0314-4aa2-e3e6-31f2815966b7"
      },
      "execution_count": null,
      "outputs": [
        {
          "output_type": "stream",
          "name": "stdout",
          "text": [
            "The area is: 78.54\n",
            "The area is: 16.00\n"
          ]
        }
      ]
    }
  ]
}