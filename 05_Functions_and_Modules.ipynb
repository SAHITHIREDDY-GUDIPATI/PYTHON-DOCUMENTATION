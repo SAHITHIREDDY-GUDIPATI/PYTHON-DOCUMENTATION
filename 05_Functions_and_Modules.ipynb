{
  "nbformat": 4,
  "nbformat_minor": 0,
  "metadata": {
    "colab": {
      "provenance": [],
      "authorship_tag": "ABX9TyM1wBztkE1UdvVW2PDpOi0J",
      "include_colab_link": true
    },
    "kernelspec": {
      "name": "python3",
      "display_name": "Python 3"
    },
    "language_info": {
      "name": "python"
    }
  },
  "cells": [
    {
      "cell_type": "markdown",
      "metadata": {
        "id": "view-in-github",
        "colab_type": "text"
      },
      "source": [
        "<a href=\"https://colab.research.google.com/github/SAHITHIREDDY-GUDIPATI/PYTHON-DOCUMENTATION/blob/main/05_Functions_and_Modules.ipynb\" target=\"_parent\"><img src=\"https://colab.research.google.com/assets/colab-badge.svg\" alt=\"Open In Colab\"/></a>"
      ]
    },
    {
      "cell_type": "markdown",
      "source": [
        "**Functions and Modules in Python**\n",
        "\n",
        "Functions and modules are essential for making Python programs reusable, modular, and organized. This section covers how to define and use functions, and how to leverage modules effectively.\n",
        "\n",
        "**1. Functions in Python :**\n",
        "\n",
        "A function is a reusable block of code designed to perform a specific task.\n",
        "\n",
        "**1.1 Defining a Function :**\n",
        "\n",
        "Use the def keyword to define a function.\n",
        "\n",
        "    syntax:\n",
        "          def function_name(parameters):\n",
        "              # Code block (function body)\n",
        "              return value\n"
      ],
      "metadata": {
        "id": "v6J2zWKIzpv0"
      }
    },
    {
      "cell_type": "code",
      "execution_count": null,
      "metadata": {
        "colab": {
          "base_uri": "https://localhost:8080/"
        },
        "id": "lSpdupk-pZpF",
        "outputId": "08084f34-3958-4568-fa06-d09b269d3926"
      },
      "outputs": [
        {
          "output_type": "stream",
          "name": "stdout",
          "text": [
            "Hello, Alice! Welcome to Python.\n",
            "Hello, Bob! Welcome to Python.\n"
          ]
        }
      ],
      "source": [
        "# Define a function\n",
        "def greet(name):\n",
        "    \"\"\"\n",
        "    This function greets the person whose name is passed as an argument.\n",
        "    \"\"\"\n",
        "    print(f\"Hello, {name}! Welcome to Python.\")\n",
        "\n",
        "# Call the function\n",
        "greet(\"Alice\")\n",
        "greet(\"Bob\")"
      ]
    },
    {
      "cell_type": "markdown",
      "source": [
        "**1.2 Function with Default Parameters :**\n",
        "\n",
        "You can provide default values for parameters."
      ],
      "metadata": {
        "id": "4ZpsfvWj3Zno"
      }
    },
    {
      "cell_type": "code",
      "source": [
        "def greet(name=\"Guest\"):\n",
        "    return f\"Hello, {name}!\"\n",
        "print(greet())         # Uses default value\n",
        "print(greet(\"Bob\"))    # Overrides default value\n"
      ],
      "metadata": {
        "colab": {
          "base_uri": "https://localhost:8080/"
        },
        "id": "amDb71nU01ny",
        "outputId": "dc27d3ab-7596-40d5-d571-84d1044f3da6"
      },
      "execution_count": null,
      "outputs": [
        {
          "output_type": "stream",
          "name": "stdout",
          "text": [
            "Hello, Guest!\n",
            "Hello, Bob!\n"
          ]
        }
      ]
    },
    {
      "cell_type": "markdown",
      "source": [
        "**1.3 Function with Multiple Parameters :**\n",
        "\n",
        "Functions can take multiple parameters."
      ],
      "metadata": {
        "id": "snWBgCL1Uvjh"
      }
    },
    {
      "cell_type": "code",
      "source": [
        "def add_numbers(a, b):\n",
        "    return a + b\n",
        "\n",
        "add_numbers(5, 10)\n"
      ],
      "metadata": {
        "id": "6TcHsUen3spb",
        "colab": {
          "base_uri": "https://localhost:8080/"
        },
        "outputId": "7ef0f370-8b72-48e1-d388-c4639633fb95"
      },
      "execution_count": null,
      "outputs": [
        {
          "output_type": "execute_result",
          "data": {
            "text/plain": [
              "15"
            ]
          },
          "metadata": {},
          "execution_count": 2
        }
      ]
    },
    {
      "cell_type": "markdown",
      "source": [
        "**1.4 Function Without Return Statement :**\n",
        "\n",
        "Functions that do not explicitly return a value return None by default."
      ],
      "metadata": {
        "id": "EloHmrJ3VO6B"
      }
    },
    {
      "cell_type": "code",
      "source": [
        "def print_message():\n",
        "    print(\"This is a message.\")\n",
        "result = print_message()\n",
        "print(result)\n"
      ],
      "metadata": {
        "colab": {
          "base_uri": "https://localhost:8080/"
        },
        "id": "xi-QhAwkU_lI",
        "outputId": "153c0daf-e719-4650-e0e6-df52014d03c7"
      },
      "execution_count": null,
      "outputs": [
        {
          "output_type": "stream",
          "name": "stdout",
          "text": [
            "This is a message.\n",
            "None\n"
          ]
        }
      ]
    },
    {
      "cell_type": "markdown",
      "source": [
        "**1.5 Variable Scope in Functions :**\n",
        "\n",
        "Variables inside a function are local by default."
      ],
      "metadata": {
        "id": "UyYDnZ0nVjWC"
      }
    },
    {
      "cell_type": "code",
      "source": [
        "def local_scope():\n",
        "    x = 10  # Local variable\n",
        "    return(x)\n",
        "\n",
        "local_scope()"
      ],
      "metadata": {
        "colab": {
          "base_uri": "https://localhost:8080/"
        },
        "id": "M90sXbUdVWPB",
        "outputId": "ea97c808-3a2e-4072-df4e-7d6a62c82e73"
      },
      "execution_count": null,
      "outputs": [
        {
          "output_type": "execute_result",
          "data": {
            "text/plain": [
              "10"
            ]
          },
          "metadata": {},
          "execution_count": 6
        }
      ]
    },
    {
      "cell_type": "markdown",
      "source": [
        "**Global Keyword :**\n",
        "\n",
        "Use global to modify global variables inside a function."
      ],
      "metadata": {
        "id": "el1TK-OgXUJv"
      }
    },
    {
      "cell_type": "code",
      "source": [
        "x = 5\n",
        "def modify_global():\n",
        "    global x\n",
        "    x = 10\n",
        "modify_global()\n",
        "print(x) # Output: 10\n"
      ],
      "metadata": {
        "colab": {
          "base_uri": "https://localhost:8080/"
        },
        "id": "PQROvBDFWZtw",
        "outputId": "d25934f2-04a0-42de-ab68-752d91973a1f"
      },
      "execution_count": null,
      "outputs": [
        {
          "output_type": "stream",
          "name": "stdout",
          "text": [
            "10\n"
          ]
        }
      ]
    },
    {
      "cell_type": "markdown",
      "source": [
        "**1.6 Lambda Functions :**\n",
        "\n",
        "Lambda functions are anonymous functions defined with the lambda keyword.\n",
        "\n",
        "        SYNTAX:\n",
        "        lambda arguments: expression\n"
      ],
      "metadata": {
        "id": "1yhKU3YEYSiD"
      }
    },
    {
      "cell_type": "code",
      "source": [
        "square = lambda x: x**2\n",
        "print(square(5))"
      ],
      "metadata": {
        "colab": {
          "base_uri": "https://localhost:8080/"
        },
        "id": "AY3T2PlWXquy",
        "outputId": "8c6ad684-0083-4935-f7d5-59ba4a3b6492"
      },
      "execution_count": null,
      "outputs": [
        {
          "output_type": "stream",
          "name": "stdout",
          "text": [
            "25\n"
          ]
        }
      ]
    },
    {
      "cell_type": "markdown",
      "source": [
        "**2. Modules in Python :**\n",
        "\n",
        "A module is a file containing Python code (functions, classes, variables) that can be reused in other programs.\n",
        "\n",
        "**2.1 Using Built-in Modules :**\n",
        "\n",
        "Python provides many built-in modules like math, random, and os."
      ],
      "metadata": {
        "id": "lWCEL0tDYzKo"
      }
    },
    {
      "cell_type": "code",
      "source": [
        "#Importing a Module:\n",
        "import math\n",
        "print(math.sqrt(16))  # Output: 4.0"
      ],
      "metadata": {
        "colab": {
          "base_uri": "https://localhost:8080/"
        },
        "id": "hRLYANCBYu08",
        "outputId": "47ee6bfd-6e3c-4598-e4bf-6f8affdbb55f"
      },
      "execution_count": null,
      "outputs": [
        {
          "output_type": "stream",
          "name": "stdout",
          "text": [
            "4.0\n"
          ]
        }
      ]
    },
    {
      "cell_type": "code",
      "source": [
        "#Specific Import:\n",
        "from math import pi\n",
        "print(pi)  # Output: 3.141592653589793"
      ],
      "metadata": {
        "colab": {
          "base_uri": "https://localhost:8080/"
        },
        "id": "wnEMBvqnZZKz",
        "outputId": "b38e14ad-ffa8-4b7b-c74d-f22867d23753"
      },
      "execution_count": null,
      "outputs": [
        {
          "output_type": "stream",
          "name": "stdout",
          "text": [
            "3.141592653589793\n"
          ]
        }
      ]
    },
    {
      "cell_type": "code",
      "source": [
        "#Renaming a Module:\n",
        "import math as m\n",
        "print(m.sqrt(25))  # Output: 5.0"
      ],
      "metadata": {
        "colab": {
          "base_uri": "https://localhost:8080/"
        },
        "id": "uywUtMtfZ0-R",
        "outputId": "9fcd0f13-9b6d-4c58-bcfc-647d9184acf4"
      },
      "execution_count": null,
      "outputs": [
        {
          "output_type": "stream",
          "name": "stdout",
          "text": [
            "5.0\n"
          ]
        }
      ]
    },
    {
      "cell_type": "markdown",
      "source": [
        "**2.2 Creating a Custom Module :**\n",
        "\n",
        "You can create your own module by saving Python code in a .py file.\n",
        "      \n",
        "      Example: Creating greetings.py"
      ],
      "metadata": {
        "id": "zvMmiE_laHHB"
      }
    },
    {
      "cell_type": "code",
      "source": [
        "# greetings.py\n",
        "def hello():\n",
        "    return \"Hello from the custom module!\""
      ],
      "metadata": {
        "id": "GezIxRrCZ-5X"
      },
      "execution_count": null,
      "outputs": []
    },
    {
      "cell_type": "markdown",
      "source": [
        "**Using the Custom Module:**\n",
        "\n",
        "Save greetings.py in the same directory and import it."
      ],
      "metadata": {
        "id": "5EXJIbqlaiHE"
      }
    },
    {
      "cell_type": "markdown",
      "source": [
        "**2.3 __ name__ and __ main__ :**\n",
        "\n",
        "The __ name __ variable helps determine if a Python script is run directly or imported as a module."
      ],
      "metadata": {
        "id": "MTdoUA7XcuhF"
      }
    },
    {
      "cell_type": "code",
      "source": [
        "# module_example.py\n",
        "if __name__ == \"__main__\":\n",
        "    print(\"This script is run directly.\")\n",
        "else:\n",
        "    print(\"This script is imported as a module.\")"
      ],
      "metadata": {
        "colab": {
          "base_uri": "https://localhost:8080/"
        },
        "id": "32kTtwL2auI6",
        "outputId": "75603079-8a37-4e68-e086-235953fdb826"
      },
      "execution_count": null,
      "outputs": [
        {
          "output_type": "stream",
          "name": "stdout",
          "text": [
            "This script is run directly.\n"
          ]
        }
      ]
    },
    {
      "cell_type": "markdown",
      "source": [
        "![Screenshot (52).png](data:image/png;base64,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)"
      ],
      "metadata": {
        "id": "_jAh0lJYdr_g"
      }
    },
    {
      "cell_type": "markdown",
      "source": [
        "**3. Exercises :**\n",
        "\n",
        "\n",
        "*   Task 1: Create a Function\n",
        "Write a function calculate_area that takes two arguments (length, width) and returns the area of a rectangle."
      ],
      "metadata": {
        "id": "hThjwD3Vd6Yr"
      }
    },
    {
      "cell_type": "code",
      "source": [
        "#answer\n",
        "def calculate_area(length, width):\n",
        "    area = length * width\n",
        "    return area\n",
        "print(calculate_area(3, 4))"
      ],
      "metadata": {
        "colab": {
          "base_uri": "https://localhost:8080/"
        },
        "id": "MjGZXWffdLMW",
        "outputId": "518c6280-099c-4bb6-d676-d4211dd9a278"
      },
      "execution_count": null,
      "outputs": [
        {
          "output_type": "stream",
          "name": "stdout",
          "text": [
            "12\n"
          ]
        }
      ]
    },
    {
      "cell_type": "markdown",
      "source": [
        "\n",
        "\n",
        "\n",
        "*   Task 2: Use a Built-in Module- Write a program to generate a random number between 1 and 100 using the random module."
      ],
      "metadata": {
        "id": "R-NCLIZ3fOOK"
      }
    },
    {
      "cell_type": "code",
      "source": [
        "#answer\n",
        "import random\n",
        "print(random.randint(1, 100))"
      ],
      "metadata": {
        "colab": {
          "base_uri": "https://localhost:8080/"
        },
        "id": "qSUS4PvBeGoz",
        "outputId": "fcd6ce69-509d-4c1a-bedb-1b8b4f48cefd"
      },
      "execution_count": null,
      "outputs": [
        {
          "output_type": "stream",
          "name": "stdout",
          "text": [
            "97\n"
          ]
        }
      ]
    }
  ]
}