{
  "nbformat": 4,
  "nbformat_minor": 0,
  "metadata": {
    "colab": {
      "provenance": [],
      "authorship_tag": "ABX9TyO5cww6gONWDPXOTUI04I9C",
      "include_colab_link": true
    },
    "kernelspec": {
      "name": "python3",
      "display_name": "Python 3"
    },
    "language_info": {
      "name": "python"
    }
  },
  "cells": [
    {
      "cell_type": "markdown",
      "metadata": {
        "id": "view-in-github",
        "colab_type": "text"
      },
      "source": [
        "<a href=\"https://colab.research.google.com/github/SAHITHIREDDY-GUDIPATI/PYTHON-DOCUMENTATION/blob/main/09_Object_Oriented_Programming.ipynb\" target=\"_parent\"><img src=\"https://colab.research.google.com/assets/colab-badge.svg\" alt=\"Open In Colab\"/></a>"
      ]
    },
    {
      "cell_type": "markdown",
      "source": [
        "**Python Libraries and Frameworks :**\n",
        "\n",
        "Python’s vast ecosystem of libraries and frameworks empowers developers to perform specialized tasks efficiently. This module introduces a few essential libraries for data manipulation, numerical computations, and visualization.\n",
        "\n"
      ],
      "metadata": {
        "id": "5qBXB6B8yhEs"
      }
    },
    {
      "cell_type": "markdown",
      "source": [
        "**1. NumPy :**\n",
        "\n",
        "NumPy (Numerical Python) is a library for numerical computations.\n",
        "\n",
        "**Key Features:**\n",
        "\n",
        "\n",
        "*   Multi-dimensional arrays.\n",
        "\n",
        "*   Mathematical operations on arrays.\n",
        "\n",
        "*   Efficient handling of large datasets.\n"
      ],
      "metadata": {
        "id": "StKKt9YL5gGD"
      }
    },
    {
      "cell_type": "code",
      "execution_count": null,
      "metadata": {
        "colab": {
          "base_uri": "https://localhost:8080/"
        },
        "id": "E-2r55LbyURc",
        "outputId": "a3c5174f-3444-4407-94f9-50c9c1dab77b"
      },
      "outputs": [
        {
          "output_type": "stream",
          "name": "stdout",
          "text": [
            "Array: [1 2 3 4 5]\n",
            "Mean: 3.0\n",
            "Square of elements: [ 1  4  9 16 25]\n"
          ]
        }
      ],
      "source": [
        "import numpy as np\n",
        "\n",
        "# Create an array\n",
        "arr = np.array([1, 2, 3, 4, 5])\n",
        "print(\"Array:\", arr)\n",
        "\n",
        "# Perform operations\n",
        "print(\"Mean:\", np.mean(arr))\n",
        "print(\"Square of elements:\", np.square(arr))"
      ]
    },
    {
      "cell_type": "markdown",
      "source": [
        "**2. Pandas**\n",
        "\n",
        "Pandas is a library for data manipulation and analysis.\n",
        "\n",
        "**Key Features:**\n",
        "\n",
        "\n",
        "*   DataFrames and Series for structured data.\n",
        "*   Operations like filtering, grouping, and merging datasets.\n",
        "\n",
        "Example: Pandas Basics"
      ],
      "metadata": {
        "id": "NvqifAJJ6Gwh"
      }
    },
    {
      "cell_type": "code",
      "source": [
        "import pandas as pd\n",
        "\n",
        "# Create a DataFrame\n",
        "data = {\n",
        "    \"Name\": [\"Alice\", \"Bob\", \"Charlie\"],\n",
        "    \"Age\": [25, 30, 35],\n",
        "    \"City\": [\"New York\", \"Los Angeles\", \"Chicago\"]\n",
        "}\n",
        "df = pd.DataFrame(data)\n",
        "print(\"DataFrame:\\n\", df)\n",
        "\n",
        "# Filter rows\n",
        "print(\"\\nFilter Age > 25:\\n\", df[df[\"Age\"] > 25])\n"
      ],
      "metadata": {
        "colab": {
          "base_uri": "https://localhost:8080/"
        },
        "id": "SAMnlPa9534V",
        "outputId": "55d7b31c-aead-4c0b-d98f-af85466a23a8"
      },
      "execution_count": null,
      "outputs": [
        {
          "output_type": "stream",
          "name": "stdout",
          "text": [
            "DataFrame:\n",
            "       Name  Age         City\n",
            "0    Alice   25     New York\n",
            "1      Bob   30  Los Angeles\n",
            "2  Charlie   35      Chicago\n",
            "\n",
            "Filter Age > 25:\n",
            "       Name  Age         City\n",
            "1      Bob   30  Los Angeles\n",
            "2  Charlie   35      Chicago\n"
          ]
        }
      ]
    },
    {
      "cell_type": "markdown",
      "source": [
        "**3. Matplotlib :**\n",
        "\n",
        "Matplotlib is used for creating visualizations.\n",
        "\n",
        "**Key Features:**\n",
        "\n",
        "\n",
        "*   Line plots, bar charts, histograms, etc.\n",
        "*   Highly customizable plots.\n",
        "\n",
        "Example: Simple Plot"
      ],
      "metadata": {
        "id": "O4F72Aqc7kPs"
      }
    },
    {
      "cell_type": "code",
      "source": [
        "import matplotlib.pyplot as plt\n",
        "\n",
        "# Data for plotting\n",
        "x = [1, 2, 3, 4, 5]\n",
        "y = [2, 4, 6, 8, 10]\n",
        "\n",
        "# Create a plot\n",
        "plt.plot(x, y, marker=\"o\", label=\"Linear Growth\")\n",
        "plt.title(\"Simple Line Plot\")\n",
        "plt.xlabel(\"X-axis\")\n",
        "plt.ylabel(\"Y-axis\")\n",
        "plt.legend()\n",
        "plt.show()\n"
      ],
      "metadata": {
        "colab": {
          "base_uri": "https://localhost:8080/",
          "height": 472
        },
        "id": "6_kojwgR7fyB",
        "outputId": "102f575f-9c68-44cd-b091-c20ddfe3b390"
      },
      "execution_count": null,
      "outputs": [
        {
          "output_type": "display_data",
          "data": {
            "text/plain": [
              "<Figure size 640x480 with 1 Axes>"
            ],
            "image/png": "[encoded data removed]"
          },
          "metadata": {}
        }
      ]
    },
    {
      "cell_type": "markdown",
      "source": [
        "**4. Frameworks**\n",
        "\n",
        "Python frameworks help build web applications, APIs, and more.\n",
        "\n",
        "**4.1 Flask**\n",
        "\n",
        "A lightweight web framework for building web applications.\n",
        "\n",
        "Example:"
      ],
      "metadata": {
        "id": "0cdVXDsQ79mM"
      }
    },
    {
      "cell_type": "code",
      "source": [
        "# from flask import Flask\n",
        "\n",
        "# app = Flask(__name__)\n",
        "\n",
        "# @app.route(\"/\")\n",
        "# def home():\n",
        "#    return \"Welcome to Flask!\"\n",
        "\n",
        "# if __name__ == \"__main__\":\n",
        "#    app.run(debug=True)\n"
      ],
      "metadata": {
        "id": "lq8hWW438IA-"
      },
      "execution_count": null,
      "outputs": []
    },
    {
      "cell_type": "markdown",
      "source": [
        "**4.2 Django :**\n",
        "\n",
        "A robust web framework for large-scale applications.\n",
        "\n",
        "URL routing, templates, and database management are built-in."
      ],
      "metadata": {
        "id": "Ufc2wHqc8dOa"
      }
    },
    {
      "cell_type": "markdown",
      "source": [
        "**5. Exercises:**\n",
        "\n",
        "\n",
        "*   Task 1: NumPy Operations\n",
        "Create a NumPy array of numbers from 1 to 10. Compute the sum and the square root of the array elements.\n",
        "\n",
        "*   Task 2: Pandas DataFrame\n",
        "Create a Pandas DataFrame with columns: \"Product\", \"Price\", \"Stock\". Filter products with a price greater than 50.\n",
        "*   Task 3: Matplotlib Visualization\n",
        "Plot a bar chart showing the population of three cities.\n",
        "\n",
        "\n"
      ],
      "metadata": {
        "id": "0itK8W_G8xDz"
      }
    },
    {
      "cell_type": "code",
      "source": [
        "#Task 1: NumPy Operations\n",
        "#Create a NumPy array of numbers from 1 to 10. Compute the sum and the square root of the array elements.\n",
        "\n",
        "import numpy as np\n",
        "\n",
        "# Create a NumPy array\n",
        "arr = np.arange(1, 11)  # Numbers from 1 to 10\n",
        "\n",
        "# Compute the sum\n",
        "array_sum = np.sum(arr)\n",
        "\n",
        "# Compute the square root\n",
        "array_sqrt = np.sqrt(arr)\n",
        "\n",
        "# Print results\n",
        "print(\"Array:\", arr)\n",
        "print(\"Sum of elements:\", array_sum)\n",
        "print(\"Square root of elements:\", array_sqrt)\n"
      ],
      "metadata": {
        "colab": {
          "base_uri": "https://localhost:8080/"
        },
        "id": "fELRVjEd8YX8",
        "outputId": "b5284023-1178-4a55-ffd6-d57d59722bea"
      },
      "execution_count": null,
      "outputs": [
        {
          "output_type": "stream",
          "name": "stdout",
          "text": [
            "Array: [ 1  2  3  4  5  6  7  8  9 10]\n",
            "Sum of elements: 55\n",
            "Square root of elements: [1.         1.41421356 1.73205081 2.         2.23606798 2.44948974\n",
            " 2.64575131 2.82842712 3.         3.16227766]\n"
          ]
        }
      ]
    },
    {
      "cell_type": "code",
      "source": [
        "#Task 2: Pandas DataFrame\n",
        "#Create a Pandas DataFrame with columns: \"Product\", \"Price\", \"Stock\". Filter products with a price greater than 50.\n",
        "\n",
        "import pandas as pd\n",
        "\n",
        "# Create a DataFrame\n",
        "data = {\n",
        "    \"Product\": [\"Laptop\", \"Headphones\", \"Keyboard\", \"Mouse\", \"Monitor\"],\n",
        "    \"Price\": [1000, 150, 45, 25, 200],\n",
        "    \"Stock\": [20, 50, 100, 200, 15]\n",
        "}\n",
        "df = pd.DataFrame(data)\n",
        "\n",
        "# Filter products with Price > 50\n",
        "filtered_products = df[df[\"Price\"] > 50]\n",
        "\n",
        "# Print results\n",
        "print(\"Original DataFrame:\")\n",
        "print(df)\n",
        "print(\"\\nFiltered Products (Price > 50):\")\n",
        "print(filtered_products)\n"
      ],
      "metadata": {
        "colab": {
          "base_uri": "https://localhost:8080/"
        },
        "id": "O3L8mUMb98ze",
        "outputId": "a2fb1a8b-3c8a-4554-8c33-219904ab33fb"
      },
      "execution_count": null,
      "outputs": [
        {
          "output_type": "stream",
          "name": "stdout",
          "text": [
            "Original DataFrame:\n",
            "      Product  Price  Stock\n",
            "0      Laptop   1000     20\n",
            "1  Headphones    150     50\n",
            "2    Keyboard     45    100\n",
            "3       Mouse     25    200\n",
            "4     Monitor    200     15\n",
            "\n",
            "Filtered Products (Price > 50):\n",
            "      Product  Price  Stock\n",
            "0      Laptop   1000     20\n",
            "1  Headphones    150     50\n",
            "4     Monitor    200     15\n"
          ]
        }
      ]
    },
    {
      "cell_type": "code",
      "source": [
        "#Task 3: Matplotlib Visualization\n",
        "#Plot a bar chart showing the population of three cities.\n",
        "import matplotlib.pyplot as plt\n",
        "\n",
        "# Data for plotting\n",
        "cities = [\"New York\", \"Los Angeles\", \"Chicago\"]\n",
        "population = [8.4, 4.0, 2.7]  # Population in millions\n",
        "\n",
        "# Create the bar chart\n",
        "plt.bar(cities, population, color=[\"blue\", \"green\", \"red\"])\n",
        "\n",
        "# Add title and labels\n",
        "plt.title(\"Population of Cities\")\n",
        "plt.xlabel(\"Cities\")\n",
        "plt.ylabel(\"Population (in millions)\")\n",
        "\n",
        "# Show the chart\n",
        "plt.show()\n"
      ],
      "metadata": {
        "colab": {
          "base_uri": "https://localhost:8080/",
          "height": 472
        },
        "id": "3pp5VXBl-GOm",
        "outputId": "eadc8da8-a01c-493d-f037-197516f61436"
      },
      "execution_count": null,
      "outputs": [
        {
          "output_type": "display_data",
          "data": {
            "text/plain": [
              "<Figure size 640x480 with 1 Axes>"
            ],
            "image/png": "[encoded data removed]"
          },
          "metadata": {}
        }
      ]
    }
  ]
}