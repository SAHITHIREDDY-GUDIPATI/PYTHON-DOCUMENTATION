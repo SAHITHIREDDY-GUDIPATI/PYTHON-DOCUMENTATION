{
  "nbformat": 4,
  "nbformat_minor": 0,
  "metadata": {
    "colab": {
      "provenance": [],
      "authorship_tag": "ABX9TyNm/Kjie9ga9Pgmu6ShtTA3",
      "include_colab_link": true
    },
    "kernelspec": {
      "name": "python3",
      "display_name": "Python 3"
    },
    "language_info": {
      "name": "python"
    }
  },
  "cells": [
    {
      "cell_type": "markdown",
      "metadata": {
        "id": "view-in-github",
        "colab_type": "text"
      },
      "source": [
        "<a href=\"https://colab.research.google.com/github/SAHITHIREDDY-GUDIPATI/PYTHON-DOCUMENTATION/blob/main/06_Python_Collections_.ipynb\" target=\"_parent\"><img src=\"https://colab.research.google.com/assets/colab-badge.svg\" alt=\"Open In Colab\"/></a>"
      ]
    },
    {
      "cell_type": "markdown",
      "source": [
        "**Python Collections (Data Structures) :**\n",
        "\n",
        "Python provides several built-in data structures to store and manage data efficiently. These include \"Lists, Tuples, Dictionaries, and  Sets\".\n",
        "\n",
        "Each serves a unique purpose depending on the type of operations required."
      ],
      "metadata": {
        "id": "kDEYXOGHiU2r"
      }
    },
    {
      "cell_type": "markdown",
      "source": [
        "**1. Lists :**\n",
        "\n",
        "A list is an ordered, mutable collection that can hold a variety of data types.\n",
        "\n",
        "Key Features:\n",
        "1.   Allows duplicate elements.\n",
        "2. Items can be added,\n",
        "3. removed, or\n",
        "4. modified.\n",
        "          Syntax:\n",
        "          my_list = [item1, item2, item3, ...]\n",
        "\n",
        "\n"
      ],
      "metadata": {
        "id": "5GdFKg5viUvA"
      }
    },
    {
      "cell_type": "code",
      "source": [
        "# Creating a list\n",
        "fruits = [\"Apple\", \"Banana\", \"Cherry\"]\n",
        "\n",
        "# Accessing elements\n",
        "print(fruits[0])  # Output: Apple\n",
        "\n",
        "# Modifying elements\n",
        "fruits[1] = \"Blueberry\"\n",
        "print(fruits)  # Output: ['Apple', 'Blueberry', 'Cherry']\n",
        "\n",
        "# Adding elements\n",
        "fruits.append(\"Mango\")\n",
        "print(fruits)  # Output: ['Apple', 'Blueberry', 'Cherry', 'Mango']\n",
        "\n",
        "# Removing elements\n",
        "fruits.remove(\"Blueberry\")\n",
        "print(fruits)  # Output: ['Apple', 'Cherry', 'Mango']\n"
      ],
      "metadata": {
        "colab": {
          "base_uri": "https://localhost:8080/"
        },
        "id": "mB77x-40kFw0",
        "outputId": "6d264707-b13e-4d02-88b4-56be1c2f9d4b"
      },
      "execution_count": null,
      "outputs": [
        {
          "output_type": "stream",
          "name": "stdout",
          "text": [
            "Apple\n",
            "['Apple', 'Blueberry', 'Cherry']\n",
            "['Apple', 'Blueberry', 'Cherry', 'Mango']\n",
            "['Apple', 'Cherry', 'Mango']\n"
          ]
        }
      ]
    },
    {
      "cell_type": "markdown",
      "source": [
        "**2. Tuples :**\n",
        "\n",
        "A tuple is an ordered, immutable collection of items.\n",
        "\n",
        "Key Features:\n",
        "\n",
        "1. Faster than lists.\n",
        "2. Ideal for data that should not change.\n",
        "\n",
        "        Syntax:\n",
        "        my_tuple = (item1, item2, item3, ...)\n"
      ],
      "metadata": {
        "id": "nXTtOILDiUiJ"
      }
    },
    {
      "cell_type": "code",
      "execution_count": null,
      "metadata": {
        "colab": {
          "base_uri": "https://localhost:8080/"
        },
        "id": "FMC2Z7dAg2zH",
        "outputId": "56c79151-1e3f-40c9-cf6f-50731a18c246"
      },
      "outputs": [
        {
          "output_type": "stream",
          "name": "stdout",
          "text": [
            "20\n"
          ]
        }
      ],
      "source": [
        "# Creating a tuple\n",
        "coordinates = (10, 20, 30)\n",
        "\n",
        "# Accessing elements\n",
        "print(coordinates[1])  # Output: 20\n",
        "\n",
        "# Tuples are immutable\n",
        "# coordinates[1] = 40  # This will raise an error\n"
      ]
    },
    {
      "cell_type": "markdown",
      "source": [
        "**3. Dictionaries :**\n",
        "\n",
        "A dictionary stores data as key-value pairs. It is unordered and mutable.\n",
        "\n",
        "Key Features:\n",
        "\n",
        "1. Keys must be unique and immutable.\n",
        "2. Values can be of any data type.\n",
        "\n",
        "        Syntax:\n",
        "        my_dict = {key1: value1, key2: value2, ...}\n"
      ],
      "metadata": {
        "id": "vfksDxeBnNq-"
      }
    },
    {
      "cell_type": "code",
      "source": [
        "# Creating a dictionary\n",
        "student = {\"name\": \"Alice\", \"age\": 20, \"grade\": \"A\"}\n",
        "\n",
        "# Accessing values\n",
        "print(student[\"name\"])  # Output: Alice\n",
        "\n",
        "# Adding key-value pairs\n",
        "student[\"major\"] = \"Computer Science\"\n",
        "print(student)\n",
        "\n",
        "# Modifying values\n",
        "student[\"age\"] = 21\n",
        "print(student)\n",
        "\n",
        "# Removing a key-value pair\n",
        "del student[\"grade\"]\n",
        "print(student)\n"
      ],
      "metadata": {
        "colab": {
          "base_uri": "https://localhost:8080/"
        },
        "id": "AQBUFRVSnE4K",
        "outputId": "319b8781-3b7c-4d4b-8aad-8e9efa36d9b3"
      },
      "execution_count": null,
      "outputs": [
        {
          "output_type": "stream",
          "name": "stdout",
          "text": [
            "Alice\n",
            "{'name': 'Alice', 'age': 20, 'grade': 'A', 'major': 'Computer Science'}\n",
            "{'name': 'Alice', 'age': 21, 'grade': 'A', 'major': 'Computer Science'}\n",
            "{'name': 'Alice', 'age': 21, 'major': 'Computer Science'}\n"
          ]
        }
      ]
    },
    {
      "cell_type": "markdown",
      "source": [
        "**4. Sets  :**\n",
        "\n",
        "A set is an unordered collection of unique elements.\n",
        "\n",
        "Key Features:\n",
        "\n",
        "1. Does not allow duplicates.\n",
        "2. Useful for mathematical set operations.\n",
        "\n",
        "        Syntax:\n",
        "        my_set = {item1, item2, item3, ...}\n"
      ],
      "metadata": {
        "id": "_cUClLTWnoZx"
      }
    },
    {
      "cell_type": "code",
      "source": [
        "# Creating a set\n",
        "colors = {\"red\", \"blue\", \"green\"}\n",
        "\n",
        "# Adding elements\n",
        "colors.add(\"yellow\")\n",
        "print(colors)  # Output: {'red', 'blue', 'green', 'yellow'}\n",
        "\n",
        "# Removing elements\n",
        "colors.remove(\"blue\")\n",
        "print(colors)  # Output: {'red', 'green', 'yellow'}\n",
        "\n",
        "# Set operations\n",
        "set1 = {1, 2, 3}\n",
        "set2 = {3, 4, 5}\n",
        "\n",
        "# Union\n",
        "print(set1 | set2)  # Output: {1, 2, 3, 4, 5}\n",
        "\n",
        "# Intersection\n",
        "print(set1 & set2)  # Output: {3}\n"
      ],
      "metadata": {
        "colab": {
          "base_uri": "https://localhost:8080/"
        },
        "id": "8mNC7z6engtB",
        "outputId": "756dde31-a010-4b2f-c296-5647cbd0cbfc"
      },
      "execution_count": null,
      "outputs": [
        {
          "output_type": "stream",
          "name": "stdout",
          "text": [
            "{'red', 'yellow', 'green', 'blue'}\n",
            "{'red', 'yellow', 'green'}\n",
            "{1, 2, 3, 4, 5}\n",
            "{3}\n"
          ]
        }
      ]
    },
    {
      "cell_type": "markdown",
      "source": [
        "![Screenshot (53).png](data:image/png;base64,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)"
      ],
      "metadata": {
        "id": "tMDRkFknocqU"
      }
    },
    {
      "cell_type": "markdown",
      "source": [
        "**6. Exercises**\n",
        "\n",
        "\n",
        "\n",
        "\n",
        "*   Task 1: List Operations\n",
        "Create a list of numbers from 1 to 10. Replace the number 5 with 50 and then remove the last element from the list.\n",
        "\n",
        "*   Task 2: Dictionary Access\n",
        "Create a dictionary to store information about a book (e.g., title, author, price). Add a new key for the publication year and modify the price.\n",
        "*   Task 3: Set Operations\n",
        "Create two sets and perform union, intersection, and difference operations on them.\n",
        "\n",
        "\n"
      ],
      "metadata": {
        "id": "dKva61x9pKym"
      }
    },
    {
      "cell_type": "code",
      "source": [
        "#task1\n",
        "list1=[1,2,3,4,5,6,7,8,9,10]\n",
        "list1[4]=50\n",
        "list1.pop()\n",
        "print(list1)"
      ],
      "metadata": {
        "colab": {
          "base_uri": "https://localhost:8080/"
        },
        "id": "nif9UFfzn9Fr",
        "outputId": "8ecec3af-eaf7-4e4f-aa63-3da438a0895f"
      },
      "execution_count": null,
      "outputs": [
        {
          "output_type": "stream",
          "name": "stdout",
          "text": [
            "[1, 2, 3, 4, 50, 6, 7, 8, 9]\n"
          ]
        }
      ]
    },
    {
      "cell_type": "code",
      "source": [
        "#task2\n",
        "# Create a dictionary for the book\n",
        "book = {\n",
        "    \"title\": \"To Kill a Mockingbird\",\n",
        "    \"author\": \"Harper Lee\",\n",
        "    \"price\": 499\n",
        "}\n",
        "# Add a new key for the publication year\n",
        "book[\"publication_year\"] = 1960\n",
        "# Modify the price\n",
        "book[\"price\"] = 450\n",
        "# Print the updated dictionary\n",
        "print(book)\n",
        "\n"
      ],
      "metadata": {
        "colab": {
          "base_uri": "https://localhost:8080/"
        },
        "id": "qWZSFVe3pg_s",
        "outputId": "a2bf973d-cde8-4128-89e1-5c1554d042a4"
      },
      "execution_count": null,
      "outputs": [
        {
          "output_type": "stream",
          "name": "stdout",
          "text": [
            "{'title': 'To Kill a Mockingbird', 'author': 'Harper Lee', 'price': 450, 'publication_year': 1960}\n"
          ]
        }
      ]
    },
    {
      "cell_type": "code",
      "source": [
        "#task3\n",
        "# Create two sets\n",
        "set1 = {1, 2, 3, 4, 5}\n",
        "set2 = {4, 5, 6, 7, 8}\n",
        "\n",
        "# Perform union\n",
        "union_result = set1 | set2  # Or set1.union(set2)\n",
        "print(\"Union:\", union_result)\n",
        "\n",
        "# Perform intersection\n",
        "intersection_result = set1 & set2  # Or set1.intersection(set2)\n",
        "print(\"Intersection:\", intersection_result)\n",
        "\n",
        "# Perform difference (elements in set1 but not in set2)\n",
        "difference_result = set1 - set2  # Or set1.difference(set2)\n",
        "print(\"Difference (set1 - set2):\", difference_result)\n",
        "\n",
        "# Perform difference (elements in set2 but not in set1)\n",
        "difference_result_reverse = set2 - set1\n",
        "print(\"Difference (set2 - set1):\", difference_result_reverse)\n"
      ],
      "metadata": {
        "colab": {
          "base_uri": "https://localhost:8080/"
        },
        "id": "T10RD_STp5Wk",
        "outputId": "bf22fdba-9754-46ae-c7d5-ab5106cf9747"
      },
      "execution_count": null,
      "outputs": [
        {
          "output_type": "stream",
          "name": "stdout",
          "text": [
            "Union: {1, 2, 3, 4, 5, 6, 7, 8}\n",
            "Intersection: {4, 5}\n",
            "Difference (set1 - set2): {1, 2, 3}\n",
            "Difference (set2 - set1): {8, 6, 7}\n"
          ]
        }
      ]
    }
  ]
}