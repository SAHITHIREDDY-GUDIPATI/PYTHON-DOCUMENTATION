{
  "nbformat": 4,
  "nbformat_minor": 0,
  "metadata": {
    "colab": {
      "provenance": [],
      "authorship_tag": "ABX9TyMEeIsHdPne/luZFNfdc++t",
      "include_colab_link": true
    },
    "kernelspec": {
      "name": "python3",
      "display_name": "Python 3"
    },
    "language_info": {
      "name": "python"
    }
  },
  "cells": [
    {
      "cell_type": "markdown",
      "metadata": {
        "id": "view-in-github",
        "colab_type": "text"
      },
      "source": [
        "<a href=\"https://colab.research.google.com/github/SAHITHIREDDY-GUDIPATI/PYTHON-DOCUMENTATION/blob/main/03_Syntax_Overview.ipynb\" target=\"_parent\"><img src=\"https://colab.research.google.com/assets/colab-badge.svg\" alt=\"Open In Colab\"/></a>"
      ]
    },
    {
      "cell_type": "markdown",
      "source": [
        "**Understanding Python Syntax :**\n",
        "\n",
        "Python syntax refers to the set of rules that define the structure of Python programs.\n",
        "Its simplicity and readability make it one of the most beginner-friendly programming languages.\n",
        "\n",
        "Below are the key components of Python syntax explained in detail:"
      ],
      "metadata": {
        "id": "lbrUAnCUz4AD"
      }
    },
    {
      "cell_type": "markdown",
      "source": [
        "**1. Print Statement**\n",
        "\n",
        "         The \"print()\" function is used to display output in Python.\n",
        "\n",
        "Syntax:\n",
        "        \n",
        "    print(\"Your message here\")"
      ],
      "metadata": {
        "id": "mMrcZQZZz3-U"
      }
    },
    {
      "cell_type": "code",
      "source": [
        "#EXAMPLE\n",
        "print(\"hello world!!\")\n"
      ],
      "metadata": {
        "id": "X-5noj7p1Tz9"
      },
      "execution_count": null,
      "outputs": []
    },
    {
      "cell_type": "markdown",
      "source": [
        "**2. Variables and Assignment:**\n",
        "\n",
        "In Python, variables are created when you assign a value to them. You don’t need to declare the variable type explicitly.\n",
        "\n",
        "Syntax:\n",
        "\n",
        "      variable_name = value"
      ],
      "metadata": {
        "id": "Cs0U1IkYz36A"
      }
    },
    {
      "cell_type": "code",
      "source": [
        "x = 5\n",
        "name = \"Alice\"\n",
        "print(x)\n",
        "print(name)\n",
        "# here x and name are variables"
      ],
      "metadata": {
        "id": "uulgbCj42HQ1"
      },
      "execution_count": null,
      "outputs": []
    },
    {
      "cell_type": "markdown",
      "source": [
        "**Indentation :**\n",
        "\n",
        "Python uses indentation (spaces or tabs) to define blocks of code, unlike other languages that use braces ({}). Proper indentation is mandatory in Python."
      ],
      "metadata": {
        "id": "NWKEf5m4z34k"
      }
    },
    {
      "cell_type": "code",
      "source": [
        "#example\n",
        "if 5>2:\n",
        "  print(\"5 is greater than 2\")\n",
        "#here we have space after we write the condition"
      ],
      "metadata": {
        "colab": {
          "base_uri": "https://localhost:8080/"
        },
        "id": "141YSPPALp1k",
        "outputId": "5fb338ed-ffc6-4b84-ce93-7d076dd4fefd"
      },
      "execution_count": null,
      "outputs": [
        {
          "output_type": "stream",
          "name": "stdout",
          "text": [
            "5 is greater than 2\n"
          ]
        }
      ]
    },
    {
      "cell_type": "code",
      "source": [
        "#Note:Incorrect indentation will raise an error:\n",
        "if 5>2:\n",
        "print(\"this will get error because of not given indentation\")"
      ],
      "metadata": {
        "colab": {
          "base_uri": "https://localhost:8080/",
          "height": 106
        },
        "id": "upS-WfBfWxtg",
        "outputId": "a1657004-ff98-4179-9d8d-04e51394a005"
      },
      "execution_count": null,
      "outputs": [
        {
          "output_type": "error",
          "ename": "IndentationError",
          "evalue": "expected an indented block after 'if' statement on line 2 (<ipython-input-2-8ca7e00cac8c>, line 3)",
          "traceback": [
            "\u001b[0;36m  File \u001b[0;32m\"<ipython-input-2-8ca7e00cac8c>\"\u001b[0;36m, line \u001b[0;32m3\u001b[0m\n\u001b[0;31m    print(\"this will get error because of not given indentation\")\u001b[0m\n\u001b[0m    ^\u001b[0m\n\u001b[0;31mIndentationError\u001b[0m\u001b[0;31m:\u001b[0m expected an indented block after 'if' statement on line 2\n"
          ]
        }
      ]
    },
    {
      "cell_type": "markdown",
      "source": [
        "**4. Comments :**\n",
        "\n",
        "Comments are used to explain code and are ignored by the Python interpreter.\n",
        "\n",
        "\n",
        "*   Single-Line Comment:\n",
        "Use # to write single-line comments.\n"
      ],
      "metadata": {
        "id": "BDqM70ldz30Z"
      }
    },
    {
      "cell_type": "code",
      "source": [
        "# this represent comment/ in general we use comments to explain our code in detail way/ example in the below code i simply write the print function\n",
        "print(\"hey python\")"
      ],
      "metadata": {
        "colab": {
          "base_uri": "https://localhost:8080/"
        },
        "id": "oMxx1AgTYIvP",
        "outputId": "e69e852b-832c-47d7-ee10-eb32f89412a8"
      },
      "execution_count": null,
      "outputs": [
        {
          "output_type": "stream",
          "name": "stdout",
          "text": [
            "hey python\n"
          ]
        }
      ]
    },
    {
      "cell_type": "markdown",
      "source": [
        "\n",
        "\n",
        "*  \"\"\"\n",
        "This is a\n",
        "multi-line comment\n",
        "\"\"\"\n",
        "print(\"Python!\")\n"
      ],
      "metadata": {
        "id": "6SzcQLsrz3tZ"
      }
    },
    {
      "cell_type": "code",
      "source": [
        "\"\"\"\n",
        "This is a\n",
        "multi-line comment\n",
        "\"\"\"\n",
        "print(\"Python!\")\n"
      ],
      "metadata": {
        "colab": {
          "base_uri": "https://localhost:8080/"
        },
        "id": "mYix-wrEZRF3",
        "outputId": "5b66f497-32f9-4e9b-ecc0-6595318fabf7"
      },
      "execution_count": null,
      "outputs": [
        {
          "output_type": "stream",
          "name": "stdout",
          "text": [
            "Python!\n"
          ]
        }
      ]
    },
    {
      "cell_type": "markdown",
      "source": [
        "**5. Data Types :**\n",
        "\n",
        "Python automatically detects the type of a variable when you assign a value.\n",
        "\n",
        "\n",
        "*   Common data types include:\n",
        "\n",
        "\n",
        "      1.   int: Integer numbers (5, 100)\n",
        "      2.   float: Decimal numbers (5.5, 3.14)\n",
        "      3.   str: Strings (e.g., \"Hello\")\n",
        "      4.   bool: Boolean (True, False)"
      ],
      "metadata": {
        "id": "YlekVkUEZWTI"
      }
    },
    {
      "cell_type": "code",
      "source": [
        "x = 10       # int\n",
        "y = 3.14     # float\n",
        "name = \"Bob\" # string\n",
        "is_active = True # boolean\n",
        "\n",
        "print(type(x))  # Output: <class 'int'>\n",
        "print(type(y))  # Output: <class 'float'>\n",
        "print(type(name))  # Output: <class 'str'>\n",
        "print(type(is_active))  # Output: <class 'bool'>\n"
      ],
      "metadata": {
        "colab": {
          "base_uri": "https://localhost:8080/"
        },
        "id": "7q93G7KdagCq",
        "outputId": "9d204ce8-a7bb-4a22-d057-57a034070940"
      },
      "execution_count": null,
      "outputs": [
        {
          "output_type": "stream",
          "name": "stdout",
          "text": [
            "<class 'int'>\n",
            "<class 'float'>\n",
            "<class 'str'>\n",
            "<class 'bool'>\n"
          ]
        }
      ]
    },
    {
      "cell_type": "markdown",
      "source": [
        "**6. Conditional Statements :**\n",
        "Python uses if, elif, and else for conditional logic."
      ],
      "metadata": {
        "id": "NkUvLevpz3WD"
      }
    },
    {
      "cell_type": "markdown",
      "source": [
        "if condition:\n",
        "    # Code block if condition is true\n",
        "elif another_condition:\n",
        "    # Code block if another_condition is true\n",
        "else:\n",
        "    # Code block if no conditions are true\n"
      ],
      "metadata": {
        "id": "5IR83Wetcerc"
      }
    },
    {
      "cell_type": "code",
      "source": [
        "age = 18\n",
        "if age < 18:\n",
        "    print(\"You are a minor.\")\n",
        "elif age == 18:\n",
        "    print(\"You are 18 years old!\")\n",
        "else:\n",
        "    print(\"You are an adult.\")\n"
      ],
      "metadata": {
        "colab": {
          "base_uri": "https://localhost:8080/"
        },
        "id": "82UXNx-pcO3N",
        "outputId": "5fc7b04f-f722-4bfe-dc20-776c9310acc9"
      },
      "execution_count": null,
      "outputs": [
        {
          "output_type": "stream",
          "name": "stdout",
          "text": [
            "You are 18 years old!\n"
          ]
        }
      ]
    },
    {
      "cell_type": "markdown",
      "source": [
        "**7. Loops :**\n",
        "\n",
        "Python supports two types of loops: for and while.\n",
        "\n",
        "**For Loop:**\n",
        "\n",
        "Used to iterate over a sequence (like a list or a range of numbers).\n",
        "\n",
        "Example:"
      ],
      "metadata": {
        "id": "iX1NB-AAdG20"
      }
    },
    {
      "cell_type": "code",
      "source": [
        "for i in range(1, 6):\n",
        "    print(i)\n"
      ],
      "metadata": {
        "colab": {
          "base_uri": "https://localhost:8080/"
        },
        "id": "ELXeA9NIhr7f",
        "outputId": "58271fad-dea9-4e6f-ba45-eb4b34892fbe"
      },
      "execution_count": null,
      "outputs": [
        {
          "output_type": "stream",
          "name": "stdout",
          "text": [
            "1\n",
            "2\n",
            "3\n",
            "4\n",
            "5\n"
          ]
        }
      ]
    },
    {
      "cell_type": "markdown",
      "source": [
        "**While Loop:**\n",
        "\n",
        "Executes as long as a condition is true."
      ],
      "metadata": {
        "id": "pig0PlOzjVwJ"
      }
    },
    {
      "cell_type": "code",
      "source": [
        "x = 1\n",
        "while x <= 5:\n",
        "    print(x)\n",
        "    x += 1\n"
      ],
      "metadata": {
        "colab": {
          "base_uri": "https://localhost:8080/"
        },
        "id": "zefd_Ja8comZ",
        "outputId": "2cb4e543-99a4-490d-96be-a84867bc04e1"
      },
      "execution_count": null,
      "outputs": [
        {
          "output_type": "stream",
          "name": "stdout",
          "text": [
            "1\n",
            "2\n",
            "3\n",
            "4\n",
            "5\n"
          ]
        }
      ]
    },
    {
      "cell_type": "markdown",
      "source": [
        "**8. Functions :**\n",
        "\n",
        "Functions are used to organize code into reusable blocks."
      ],
      "metadata": {
        "id": "4YI7S300jvJW"
      }
    },
    {
      "cell_type": "markdown",
      "source": [
        "    def function_name(parameters):\n",
        "          # Function body\n",
        "          return value\n"
      ],
      "metadata": {
        "id": "0fkmrKMAkNzX"
      }
    },
    {
      "cell_type": "code",
      "source": [
        "def greet(name):\n",
        "    return f\"Hello, {name}!\"\n",
        "\n",
        "print(greet(\"SAHITHI\"))\n"
      ],
      "metadata": {
        "colab": {
          "base_uri": "https://localhost:8080/"
        },
        "id": "Byl-wyX-kI9U",
        "outputId": "926da229-2821-4f1a-d3db-ca7b704a9f5d"
      },
      "execution_count": null,
      "outputs": [
        {
          "output_type": "stream",
          "name": "stdout",
          "text": [
            "Hello, SAHITHI!\n"
          ]
        }
      ]
    },
    {
      "cell_type": "markdown",
      "source": [
        "**9. Input from User :**\n",
        "\n",
        "The input() function is used to take input from the user.\n",
        "\n",
        "    name = input(\"Enter your name: \")\n",
        "    print(f\"Welcome, {name}!\")\n"
      ],
      "metadata": {
        "id": "hO4PXoxMko0V"
      }
    },
    {
      "cell_type": "code",
      "source": [
        "name = input(\"Enter your name: \")\n",
        "print(f\"Welcome, {name}!\")\n"
      ],
      "metadata": {
        "colab": {
          "base_uri": "https://localhost:8080/"
        },
        "id": "iJ9wlcigkc83",
        "outputId": "418d5d60-c280-48f2-aa09-38dcb01efeb1"
      },
      "execution_count": null,
      "outputs": [
        {
          "output_type": "stream",
          "name": "stdout",
          "text": [
            "Enter your name: SAHITHI REDDY\n",
            "Welcome, SAHITHI REDDY!\n"
          ]
        }
      ]
    },
    {
      "cell_type": "markdown",
      "source": [
        "**10. Error Handling :**\n",
        "\n",
        "Python uses try and except blocks to handle errors.\n",
        "\n",
        "    try:\n",
        "    # Code that may raise an error\n",
        "    except ExceptionType:\n",
        "    # Code to handle the error"
      ],
      "metadata": {
        "id": "c_GdxWXMlB-p"
      }
    },
    {
      "cell_type": "code",
      "source": [
        "try:\n",
        "    x = int(input(\"Enter a number: \"))\n",
        "    print(f\"Square of {x} is {x**2}\")\n",
        "except ValueError:\n",
        "    print(\"Invalid input. Please enter a valid number.\")\n"
      ],
      "metadata": {
        "colab": {
          "base_uri": "https://localhost:8080/"
        },
        "id": "dWheY0Utk4U-",
        "outputId": "a4d08c94-1faf-42e4-f133-0dcd3535a1e9"
      },
      "execution_count": null,
      "outputs": [
        {
          "output_type": "stream",
          "name": "stdout",
          "text": [
            "Enter a number: 123\n",
            "Square of 123 is 15129\n"
          ]
        }
      ]
    }
  ]
}