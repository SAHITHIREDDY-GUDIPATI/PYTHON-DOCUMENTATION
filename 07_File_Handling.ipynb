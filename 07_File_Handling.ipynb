{
  "nbformat": 4,
  "nbformat_minor": 0,
  "metadata": {
    "colab": {
      "provenance": [],
      "authorship_tag": "ABX9TyP3Dvae/CL7/AazCik7B5pv",
      "include_colab_link": true
    },
    "kernelspec": {
      "name": "python3",
      "display_name": "Python 3"
    },
    "language_info": {
      "name": "python"
    }
  },
  "cells": [
    {
      "cell_type": "markdown",
      "metadata": {
        "id": "view-in-github",
        "colab_type": "text"
      },
      "source": [
        "<a href=\"https://colab.research.google.com/github/SAHITHIREDDY-GUDIPATI/PYTHON-DOCUMENTATION/blob/main/07_File_Handling.ipynb\" target=\"_parent\"><img src=\"https://colab.research.google.com/assets/colab-badge.svg\" alt=\"Open In Colab\"/></a>"
      ]
    },
    {
      "cell_type": "markdown",
      "source": [
        "**File Handling in Python :**\n",
        "\n",
        "File handling allows Python programs to interact with files stored on your computer. You can perform operations like reading, writing, and appending data to files. Python makes file handling simple and efficient.\n",
        "\n"
      ],
      "metadata": {
        "id": "kUL_cKCeqkIm"
      }
    },
    {
      "cell_type": "markdown",
      "source": [
        "**1. Opening and Closing a File :**\n",
        "\n",
        "Files are opened using the open() function and closed with the close() method.\n",
        "\n",
        "      Syntax:\n",
        "      file = open(\"filename\", \"mode\")\n",
        "      # Perform file operations\n",
        "      file.close()\n"
      ],
      "metadata": {
        "id": "V3Dr5tZ8qj7n"
      }
    },
    {
      "cell_type": "markdown",
      "source": [
        "![Screenshot (54).png](data:image/png;base64,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)"
      ],
      "metadata": {
        "id": "xTT9jNv_Y5bD"
      }
    },
    {
      "cell_type": "markdown",
      "source": [
        "**2. Writing to a File :**\n",
        "\n",
        "Use 'w' mode to write to a file. If the file does not exist, it will be created. If it exists, the content will be overwritten."
      ],
      "metadata": {
        "id": "8BkdPe1xZJ-Z"
      }
    },
    {
      "cell_type": "code",
      "execution_count": null,
      "metadata": {
        "id": "yH9xRMmYqY-o",
        "colab": {
          "base_uri": "https://localhost:8080/"
        },
        "outputId": "c7e1003c-ace4-430b-daaa-0fe6e4dd5526"
      },
      "outputs": [
        {
          "output_type": "stream",
          "name": "stdout",
          "text": [
            "Hello, World!\n",
            "Welcome to Python File Handling!\n"
          ]
        }
      ],
      "source": [
        "# Writing to a file\n",
        "file = open(\"example.txt\", \"w\")\n",
        "file.write(\"Hello, World!\\n\")\n",
        "file.write(\"Welcome to Python File Handling!\")\n",
        "file.close()\n",
        "# Verifying content\n",
        "file = open(\"example.txt\", \"r\")\n",
        "print(file.read())\n",
        "file.close()\n"
      ]
    },
    {
      "cell_type": "markdown",
      "source": [
        "**3. Appending to a File :**\n",
        "\n",
        "Use 'a' mode to add data to the end of a file without overwriting its contents."
      ],
      "metadata": {
        "id": "TpM2LVOYZaDO"
      }
    },
    {
      "cell_type": "code",
      "source": [
        "# Appending to a file\n",
        "file = open(\"example.txt\", \"a\")\n",
        "file.write(\"\\nThis line is appended.\")\n",
        "file.close()\n",
        "# Verifying content\n",
        "file = open(\"example.txt\", \"r\")\n",
        "print(file.read())\n",
        "file.close()\n"
      ],
      "metadata": {
        "colab": {
          "base_uri": "https://localhost:8080/"
        },
        "id": "TnEjw-DnZS-f",
        "outputId": "8f20d3e3-733e-4acb-f617-477dba052336"
      },
      "execution_count": null,
      "outputs": [
        {
          "output_type": "stream",
          "name": "stdout",
          "text": [
            "Hello, World!\n",
            "Welcome to Python File Handling!\n",
            "This line is appended.\n"
          ]
        }
      ]
    },
    {
      "cell_type": "markdown",
      "source": [
        "**4. Reading from a File :**\n",
        "Use 'r' mode to read the contents of a file.\n",
        "\n",
        "Reading Entire File:"
      ],
      "metadata": {
        "id": "-qdgPqXfZs7-"
      }
    },
    {
      "cell_type": "code",
      "source": [
        "file = open(\"example.txt\", \"r\")\n",
        "content = file.read()\n",
        "print(content)\n",
        "file.close()"
      ],
      "metadata": {
        "colab": {
          "base_uri": "https://localhost:8080/"
        },
        "id": "uhEYP0KWZnLn",
        "outputId": "55798ba0-dee0-4b14-cc12-f80346f28687"
      },
      "execution_count": null,
      "outputs": [
        {
          "output_type": "stream",
          "name": "stdout",
          "text": [
            "Hello, World!\n",
            "Welcome to Python File Handling!\n",
            "This line is appended.\n"
          ]
        }
      ]
    },
    {
      "cell_type": "markdown",
      "source": [
        "Reading Line by Line:"
      ],
      "metadata": {
        "id": "mWrakM0xZ74K"
      }
    },
    {
      "cell_type": "code",
      "source": [
        "file = open(\"example.txt\", \"r\")\n",
        "for line in file:\n",
        "    print(line.strip())  # Removes trailing newline characters\n",
        "file.close()"
      ],
      "metadata": {
        "colab": {
          "base_uri": "https://localhost:8080/"
        },
        "id": "ESiRTkwQZ3bj",
        "outputId": "c1955e7b-72a1-4393-a2f5-6929d15d1b5e"
      },
      "execution_count": null,
      "outputs": [
        {
          "output_type": "stream",
          "name": "stdout",
          "text": [
            "Hello, World!\n",
            "Welcome to Python File Handling!\n",
            "This line is appended.\n"
          ]
        }
      ]
    },
    {
      "cell_type": "markdown",
      "source": [
        "**5. Using with Statement :**\n",
        "The with statement simplifies file handling by automatically closing the file when operations are complete."
      ],
      "metadata": {
        "id": "NPfkql5paHiY"
      }
    },
    {
      "cell_type": "code",
      "source": [
        "with open(\"example.txt\", \"r\") as file:\n",
        "    content = file.read()\n",
        "    print(content)  # File automatically closed after this block"
      ],
      "metadata": {
        "colab": {
          "base_uri": "https://localhost:8080/"
        },
        "id": "uNf0rCQaaAjJ",
        "outputId": "ea2d42f3-0f54-4172-dc29-bb2be60b49b8"
      },
      "execution_count": null,
      "outputs": [
        {
          "output_type": "stream",
          "name": "stdout",
          "text": [
            "Hello, World!\n",
            "Welcome to Python File Handling!\n",
            "This line is appended.\n"
          ]
        }
      ]
    },
    {
      "cell_type": "markdown",
      "source": [
        "**6. Working with Binary Files :**\n",
        "Binary files handle data in bytes and are often used for non-text files like images or videos."
      ],
      "metadata": {
        "id": "309mmUHMadXv"
      }
    },
    {
      "cell_type": "code",
      "source": [
        "# Writing binary data\n",
        "with open(\"binary_file.bin\", \"wb\") as file:\n",
        "    file.write(b\"Binary data here!\")\n",
        "\n",
        "# Reading binary data\n",
        "with open(\"binary_file.bin\", \"rb\") as file:\n",
        "    content = file.read()\n",
        "    print(content)"
      ],
      "metadata": {
        "colab": {
          "base_uri": "https://localhost:8080/"
        },
        "id": "5KCqbLdnaW1g",
        "outputId": "d836f006-3c7b-495e-9165-e673fd674669"
      },
      "execution_count": null,
      "outputs": [
        {
          "output_type": "stream",
          "name": "stdout",
          "text": [
            "b'Binary data here!'\n"
          ]
        }
      ]
    },
    {
      "cell_type": "markdown",
      "source": [
        "**7. File Operations :**\n",
        "You can perform various operations to check the properties of a file."
      ],
      "metadata": {
        "id": "Y-XE5zIUanP7"
      }
    },
    {
      "cell_type": "code",
      "source": [
        "import os\n",
        "\n",
        "# Check if a file exists\n",
        "print(os.path.exists(\"example.txt\"))  # Output: True\n",
        "\n",
        "# Get file size\n",
        "print(os.path.getsize(\"example.txt\"))  # Output: File size in bytes\n",
        "\n",
        "# Rename a file\n",
        "os.rename(\"example.txt\", \"new_example.txt\")\n",
        "print(os.path.exists(\"new_example.txt\"))  # Output: True\n"
      ],
      "metadata": {
        "colab": {
          "base_uri": "https://localhost:8080/"
        },
        "id": "RAWWYKkBai2f",
        "outputId": "b1c26ec7-fa59-4bc8-a9eb-b9e584bbbb6e"
      },
      "execution_count": null,
      "outputs": [
        {
          "output_type": "stream",
          "name": "stdout",
          "text": [
            "True\n",
            "69\n",
            "True\n"
          ]
        }
      ]
    },
    {
      "cell_type": "markdown",
      "source": [
        "**8. Error Handling in File Operations :**\n",
        "Use try-except blocks to handle errors gracefully."
      ],
      "metadata": {
        "id": "2RWNdBV_aywL"
      }
    },
    {
      "cell_type": "code",
      "source": [
        "try:\n",
        "    with open(\"non_existent_file.txt\", \"r\") as file:\n",
        "        print(file.read())\n",
        "except FileNotFoundError:\n",
        "    print(\"The file does not exist.\")"
      ],
      "metadata": {
        "colab": {
          "base_uri": "https://localhost:8080/"
        },
        "id": "9gZ2o1w-asdS",
        "outputId": "42b5e14f-b571-44fa-c459-217615229f37"
      },
      "execution_count": null,
      "outputs": [
        {
          "output_type": "stream",
          "name": "stdout",
          "text": [
            "The file does not exist.\n"
          ]
        }
      ]
    },
    {
      "cell_type": "markdown",
      "source": [
        "**9. Exercises :**\n",
        "\n",
        "\n",
        "*   Task 1: Write and Read -\n",
        "Write your name and a short message into a file called myfile.txt.\n",
        "Read and display the content.\n"
      ],
      "metadata": {
        "id": "R5W2ev5WbEaZ"
      }
    },
    {
      "cell_type": "code",
      "source": [
        "#solution\n",
        "# Writing to a file\n",
        "with open(\"myfile.txt\", \"w\") as file:\n",
        "    file.write(\"Name: sahithireddy\\n\")\n",
        "    file.write(\"Message: Python is fun!\")\n",
        "\n",
        "# Reading the file\n",
        "with open(\"myfile.txt\", \"r\") as file:\n",
        "    print(file.read())"
      ],
      "metadata": {
        "colab": {
          "base_uri": "https://localhost:8080/"
        },
        "id": "gnm649hma9Lb",
        "outputId": "4eb7e943-f4af-44a3-e567-114740d2101b"
      },
      "execution_count": null,
      "outputs": [
        {
          "output_type": "stream",
          "name": "stdout",
          "text": [
            "Name: sahithireddy\n",
            "Message: Python is fun!\n"
          ]
        }
      ]
    },
    {
      "cell_type": "markdown",
      "source": [
        "\n",
        "*   Task 2: Word Count\n",
        "Write a Python program to count the number of words in a text file.\n",
        "\n"
      ],
      "metadata": {
        "id": "pKblysmCbiYI"
      }
    },
    {
      "cell_type": "code",
      "source": [
        "with open(\"myfile.txt\", \"r\") as file:\n",
        "    content = file.read()\n",
        "    words = content.split()\n",
        "    print(f\"Word count: {len(words)}\")"
      ],
      "metadata": {
        "colab": {
          "base_uri": "https://localhost:8080/"
        },
        "id": "y_D4ZgnabY96",
        "outputId": "5106ff5a-2e6b-47a2-f488-a7bc5117bcd1"
      },
      "execution_count": null,
      "outputs": [
        {
          "output_type": "stream",
          "name": "stdout",
          "text": [
            "Word count: 6\n"
          ]
        }
      ]
    },
    {
      "cell_type": "markdown",
      "source": [
        "\n",
        "\n",
        "*   Task 3: Copy File -\n",
        "Write a Python program to copy content from one file to another.\n"
      ],
      "metadata": {
        "id": "OQeGi9ludoZD"
      }
    },
    {
      "cell_type": "code",
      "source": [
        "with open(\"myfile.txt\", \"r\") as source:\n",
        "    content = source.read()\n",
        "\n",
        "with open(\"copy_example.txt\", \"w\") as destination:\n",
        "    destination.write(content)\n",
        "\n",
        "print(\"File copied successfully!\")\n"
      ],
      "metadata": {
        "colab": {
          "base_uri": "https://localhost:8080/"
        },
        "id": "oRziY8eqbqtT",
        "outputId": "c30b8a62-574c-489d-97dc-a57b3ba079bd"
      },
      "execution_count": null,
      "outputs": [
        {
          "output_type": "stream",
          "name": "stdout",
          "text": [
            "File copied successfully!\n"
          ]
        }
      ]
    }
  ]
}