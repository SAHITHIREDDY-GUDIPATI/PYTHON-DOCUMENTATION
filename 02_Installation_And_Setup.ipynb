{
  "nbformat": 4,
  "nbformat_minor": 0,
  "metadata": {
    "colab": {
      "provenance": [],
      "authorship_tag": "ABX9TyPLFKrVpiU4BGL7K9c03DDy",
      "include_colab_link": true
    },
    "kernelspec": {
      "name": "python3",
      "display_name": "Python 3"
    },
    "language_info": {
      "name": "python"
    }
  },
  "cells": [
    {
      "cell_type": "markdown",
      "metadata": {
        "id": "view-in-github",
        "colab_type": "text"
      },
      "source": [
        "<a href=\"https://colab.research.google.com/github/SAHITHIREDDY-GUDIPATI/PYTHON-DOCUMENTATION/blob/main/02_Installation_And_Setup.ipynb\" target=\"_parent\"><img src=\"https://colab.research.google.com/assets/colab-badge.svg\" alt=\"Open In Colab\"/></a>"
      ]
    },
    {
      "cell_type": "markdown",
      "source": [
        "**How to Install Python**:\n",
        "\n",
        "Python is a versatile programming language that can be installed on various platforms like Windows, macOS, and Linux. Below is a step-by-step guide to install Python on your system."
      ],
      "metadata": {
        "id": "wZUuY_rOohUu"
      }
    },
    {
      "cell_type": "markdown",
      "source": [
        "**1. Install Python on Windows**:\n",
        "\n",
        "\n",
        "\n",
        "1.   Download Python:\n",
        "\n",
        "      Visit the official Python website:\n",
        "      \n",
        "      Visit the [Python Official Website](https://www.python.org/) for downloads and documentation.\n",
        "2. Run the Installer:\n",
        "                Open the downloaded .exe file.\n",
        "                Check the box \"Add Python to PATH\" before clicking \"Install Now\".\n",
        "                Wait for the installation to complete.\n",
        "3.Verify Installation\n",
        "                Open Command Prompt.\n",
        "                Type:\n",
        "                bash\n",
        "                Copy code\n",
        "                    \"python --version\"\n",
        "\n",
        " You should see the installed Python version.\n",
        "\n",
        "\n",
        "\n",
        "\n",
        "\n"
      ],
      "metadata": {
        "id": "dLa7Se_go2GZ"
      }
    },
    {
      "cell_type": "markdown",
      "source": [
        "**2. Install Python on macOS :**\n",
        "\n",
        "\n",
        "*  Check Pre-installed Python\n",
        "macOS often comes with Python pre-installed. To check, open the Terminal and type:\n",
        "\n",
        "        bash\n",
        "        python3 --version\n",
        "\n",
        "\n",
        "*   Install Latest Python:\n",
        "    Download Python for macOS from Visit: https://www.python.org/downloads/\n",
        "    Run the downloaded installer and follow the on-screen instructions.\n",
        "    \n",
        "\n",
        "*   Verify Installation:\n",
        "        Open Terminal and type:\n",
        "        bash\n",
        "        python3 --version"
      ],
      "metadata": {
        "id": "LXlJTikAr37I"
      }
    },
    {
      "cell_type": "markdown",
      "source": [
        "**3. Install Python on Linux:**\n",
        "\n",
        "\n",
        "* **Check Python Version**\n",
        "\n",
        "      Open the terminal and type:\n",
        "      bash\n",
        "      python3 --version\n",
        "\n",
        "\n",
        "*  Install Python (if not installed):\n",
        "\n",
        "Use the following commands based on your Linux distribution:\n",
        "\n",
        "\n",
        "1. Ubuntu/Debian:\n",
        "\n",
        "        bash\n",
        "        sudo apt update\n",
        "        sudo apt install python3\n",
        "\n",
        "2. Fedora:\n",
        "\n",
        "        bash\n",
        "        sudo dnf install python3\n",
        "3. Verify Installation\n",
        "    \n",
        "    Type:\n",
        "           bash\n",
        "           python3 --version"
      ],
      "metadata": {
        "id": "a_rdpobPtNue"
      }
    },
    {
      "cell_type": "markdown",
      "source": [
        "**4. Install Python via Anaconda:**\n",
        "\n",
        "If you're working with data science or machine learning, you may prefer using Anaconda, which comes with Python and many scientific libraries pre-installed.\n",
        "\n",
        "\n",
        "* Download Anaconda:Visit: https://www.anaconda.com/\n",
        "Download the installer for your operating system.\n",
        "Install Anaconda:\n",
        "\n",
        "      Run the installer and follow the prompts.\n",
        "      Verify Installation:\n",
        "\n",
        "\n",
        "*   Open Anaconda Prompt or Terminal and type:\n",
        "              bash\n",
        "              python --version"
      ],
      "metadata": {
        "id": "vN3wO_SDu4Aa"
      }
    },
    {
      "cell_type": "markdown",
      "source": [
        "**5. Use Google Colab (No Installation Required):**\n",
        "\n",
        "Google Colab is a cloud-based platform for running Python code without installation. To use Colab:\n",
        "\n",
        "\n",
        "*   Visit: https://colab.research.google.com/\n",
        "\n",
        "\n",
        "*  Sign in with your Google account and start coding in Python.\n"
      ],
      "metadata": {
        "id": "usj30v81wDu6"
      }
    },
    {
      "cell_type": "markdown",
      "source": [
        "**Helpful Resources**\n",
        "\n",
        "*   Python Official Website\n",
        "*   Anaconda Official Website\n",
        "\n",
        "*   Google Colab\n",
        "\n"
      ],
      "metadata": {
        "id": "KRszhfhxxDgq"
      }
    }
  ]
}