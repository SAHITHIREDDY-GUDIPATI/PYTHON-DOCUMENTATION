{
  "nbformat": 4,
  "nbformat_minor": 0,
  "metadata": {
    "colab": {
      "provenance": [],
      "authorship_tag": "ABX9TyMuj8fY0GjEZhmbR3NZWCaB",
      "include_colab_link": true
    },
    "kernelspec": {
      "name": "python3",
      "display_name": "Python 3"
    },
    "language_info": {
      "name": "python"
    }
  },
  "cells": [
    {
      "cell_type": "markdown",
      "metadata": {
        "id": "view-in-github",
        "colab_type": "text"
      },
      "source": [
        "<a href=\"https://colab.research.google.com/github/SAHITHIREDDY-GUDIPATI/PYTHON-DOCUMENTATION/blob/main/01_Introduction.ipynb\" target=\"_parent\"><img src=\"https://colab.research.google.com/assets/colab-badge.svg\" alt=\"Open In Colab\"/></a>"
      ]
    },
    {
      "cell_type": "markdown",
      "source": [
        "**PYTHON BASICS**"
      ],
      "metadata": {
        "id": "G0KnSyA5iXYD"
      }
    },
    {
      "cell_type": "markdown",
      "source": [
        "**INTRODUCTION** : Python is a **high-level, versatile, and beginner-friendly programming language**. It's widely used because of its simplicity, readability, and vast community support."
      ],
      "metadata": {
        "id": "QaW2IhHcioq1"
      }
    },
    {
      "cell_type": "markdown",
      "source": [
        "**Key Features of Python:**\n",
        "\n",
        "*   **Easy to Learn and Use:** Python has a clean and simple syntax, making it ideal\n",
        "for beginners.\n",
        "\n",
        "Example: Printing \"Hello, World!\" in Python:"
      ],
      "metadata": {
        "id": "XQE48S-ljONn"
      }
    },
    {
      "cell_type": "code",
      "execution_count": null,
      "metadata": {
        "colab": {
          "base_uri": "https://localhost:8080/"
        },
        "id": "Ho08q_ZXiVi_",
        "outputId": "6359ad2c-b1f4-4edc-8a5f-36445ef041cf"
      },
      "outputs": [
        {
          "output_type": "stream",
          "name": "stdout",
          "text": [
            "Hello,World!\n"
          ]
        }
      ],
      "source": [
        "print(\"Hello,World!\")"
      ]
    },
    {
      "cell_type": "markdown",
      "source": [
        "\n",
        "\n",
        "*   **Interpreted Language:** Python runs code line by line, making it easier to debug and test.\n",
        "*   **Versatile:** Python can be used for:\n",
        "           Web Development (using frameworks like Django, Flask)\n",
        "           Data Analysis and Visualization\n",
        "           Artificial Intelligence and Machine Learning\n",
        "           Automation (like scripting tasks)\n",
        "           Game Development\n",
        "\n",
        "\n",
        "*   **Cross-Platform:** Python works on Windows, macOS, Linux, and other platforms without significant changes.\n",
        "*   **Extensive Libraries:** Python has a vast collection of pre-built libraries like:\n",
        "        numpy for math and statistics\n",
        "        pandas for data analysis\n",
        "        matplotlib for creating charts and graphs\n",
        "\n",
        "\n"
      ],
      "metadata": {
        "id": "pVW-E4mukD47"
      }
    },
    {
      "cell_type": "markdown",
      "source": [
        "**Why is Python Popular?**\n",
        "\n",
        "      1) It’s used by tech giants like Google, Netflix, and NASA.\n",
        "\n",
        "      2) Suitable for both small projects and large-scale applications.\n",
        "\n",
        "      3) Active community support makes learning and troubleshooting easier\n",
        "\n",
        "\n",
        "In short, Python is a powerful tool that helps you turn ideas into real-world applications with ease!\n",
        "\n"
      ],
      "metadata": {
        "id": "BrXfb5Vpilt5"
      }
    }
  ]
}