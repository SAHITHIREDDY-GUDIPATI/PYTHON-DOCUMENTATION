{
  "cells": [
    {
      "cell_type": "markdown",
      "metadata": {
        "id": "view-in-github",
        "colab_type": "text"
      },
      "source": [
        "<a href=\"https://colab.research.google.com/github/SAHITHIREDDY-GUDIPATI/PYTHON-DOCUMENTATION/blob/main/Hands_On_Projects_.ipynb\" target=\"_parent\"><img src=\"https://colab.research.google.com/assets/colab-badge.svg\" alt=\"Open In Colab\"/></a>"
      ]
    },
    {
      "cell_type": "markdown",
      "metadata": {
        "id": "B24AT71j_ABF"
      },
      "source": [
        "**Hands-On Projects :**\n",
        "\n",
        "Here are some beginner to intermediate-level projects you can include in your documentation:"
      ]
    },
    {
      "cell_type": "markdown",
      "metadata": {
        "id": "m4W5b4rf_G3Z"
      },
      "source": [
        "**1. Calculator App :**\n",
        "\n",
        "A basic calculator that can perform addition, subtraction, multiplication, and division."
      ]
    },
    {
      "cell_type": "code",
      "execution_count": null,
      "metadata": {
        "id": "m57zxeV_-2az"
      },
      "outputs": [],
      "source": [
        "# Simple calculator program\n",
        "def add(x, y):\n",
        "    return x + y\n",
        "\n",
        "def subtract(x, y):\n",
        "    return x - y\n",
        "\n",
        "def multiply(x, y):\n",
        "    return x * y\n",
        "\n",
        "def divide(x, y):\n",
        "    if y != 0:\n",
        "        return x / y\n",
        "    else:\n",
        "        return \"Error: Division by zero\"\n",
        "\n",
        "# User interface\n",
        "print(\"Select operation:\")\n",
        "print(\"1. Add\")\n",
        "print(\"2. Subtract\")\n",
        "print(\"3. Multiply\")\n",
        "print(\"4. Divide\")\n",
        "\n",
        "choice = input(\"Enter choice (1/2/3/4): \")\n",
        "\n",
        "num1 = float(input(\"Enter first number: \"))\n",
        "num2 = float(input(\"Enter second number: \"))\n",
        "\n",
        "if choice == '1':\n",
        "    print(f\"Result: {add(num1, num2)}\")\n",
        "elif choice == '2':\n",
        "    print(f\"Result: {subtract(num1, num2)}\")\n",
        "elif choice == '3':\n",
        "    print(f\"Result: {multiply(num1, num2)}\")\n",
        "elif choice == '4':\n",
        "    print(f\"Result: {divide(num1, num2)}\")\n",
        "else:\n",
        "    print(\"Invalid input\")\n"
      ]
    },
    {
      "cell_type": "markdown",
      "metadata": {
        "id": "mSw9ojcM_pEN"
      },
      "source": [
        "**2. To-Do List App :**\n",
        "\n",
        "Create a simple to-do list that allows users to add, remove, and view tasks."
      ]
    },
    {
      "cell_type": "code",
      "execution_count": null,
      "metadata": {
        "id": "dN3JQFDI_ODZ"
      },
      "outputs": [],
      "source": [
        "# To-Do List program\n",
        "tasks = []\n",
        "\n",
        "def add_task(task):\n",
        "    tasks.append(task)\n",
        "    print(f\"'{task}' has been added.\")\n",
        "\n",
        "def remove_task(task):\n",
        "    if task in tasks:\n",
        "        tasks.remove(task)\n",
        "        print(f\"'{task}' has been removed.\")\n",
        "    else:\n",
        "        print(f\"'{task}' not found.\")\n",
        "\n",
        "def view_tasks():\n",
        "    if tasks:\n",
        "        print(\"\\nTo-Do List:\")\n",
        "        for i, task in enumerate(tasks, 1):\n",
        "            print(f\"{i}. {task}\")\n",
        "    else:\n",
        "        print(\"Your to-do list is empty.\")\n",
        "\n",
        "# User Interface\n",
        "while True:\n",
        "    print(\"\\nTo-Do List Menu:\")\n",
        "    print(\"1. Add Task\")\n",
        "    print(\"2. Remove Task\")\n",
        "    print(\"3. View Tasks\")\n",
        "    print(\"4. Exit\")\n",
        "    choice = input(\"Enter choice (1/2/3/4): \")\n",
        "\n",
        "    if choice == '1':\n",
        "        task = input(\"Enter task: \")\n",
        "        add_task(task)\n",
        "    elif choice == '2':\n",
        "        task = input(\"Enter task to remove: \")\n",
        "        remove_task(task)\n",
        "    elif choice == '3':\n",
        "        view_tasks()\n",
        "    elif choice == '4':\n",
        "        print(\"Exiting program...\")\n",
        "        break\n",
        "    else:\n",
        "        print(\"Invalid choice. Please try again.\")\n"
      ]
    },
    {
      "cell_type": "markdown",
      "metadata": {
        "id": "L-bX46YiAP2_"
      },
      "source": [
        "**3. Basic Contact Book**\n",
        "\n",
        "Create a contact book that allows users to store, search, and delete contacts."
      ]
    },
    {
      "cell_type": "code",
      "execution_count": null,
      "metadata": {
        "colab": {
          "background_save": true,
          "base_uri": "https://localhost:8080/"
        },
        "id": "B93i2vfP_udt",
        "outputId": "7b2007e2-9993-418b-ac24-91557fa466be"
      },
      "outputs": [
        {
          "name": "stdout",
          "output_type": "stream",
          "text": [
            "\n",
            "Contact Book Menu:\n",
            "1. Add Contact\n",
            "2. Search Contact\n",
            "3. Delete Contact\n",
            "4. Exit\n",
            "Contact for sahithi reddy added.\n",
            "\n",
            "Contact Book Menu:\n",
            "1. Add Contact\n",
            "2. Search Contact\n",
            "3. Delete Contact\n",
            "4. Exit\n"
          ]
        }
      ],
      "source": [
        "# Contact Book program\n",
        "contacts = {}\n",
        "\n",
        "def add_contact(name, phone):\n",
        "    contacts[name] = phone\n",
        "    print(f\"Contact for {name} added.\")\n",
        "\n",
        "def search_contact(name):\n",
        "    if name in contacts:\n",
        "        print(f\"{name}: {contacts[name]}\")\n",
        "    else:\n",
        "        print(f\"Contact for {name} not found.\")\n",
        "\n",
        "def delete_contact(name):\n",
        "    if name in contacts:\n",
        "        del contacts[name]\n",
        "        print(f\"Contact for {name} deleted.\")\n",
        "    else:\n",
        "        print(f\"Contact for {name} not found.\")\n",
        "\n",
        "# User Interface\n",
        "while True:\n",
        "    print(\"\\nContact Book Menu:\")\n",
        "    print(\"1. Add Contact\")\n",
        "    print(\"2. Search Contact\")\n",
        "    print(\"3. Delete Contact\")\n",
        "    print(\"4. Exit\")\n",
        "    choice = input(\"Enter choice (1/2/3/4): \")\n",
        "\n",
        "    if choice == '1':\n",
        "        name = input(\"Enter name: \")\n",
        "        phone = input(\"Enter phone number: \")\n",
        "        add_contact(name, phone)\n",
        "    elif choice == '2':\n",
        "        name = input(\"Enter name to search: \")\n",
        "        search_contact(name)\n",
        "    elif choice == '3':\n",
        "        name = input(\"Enter name to delete: \")\n",
        "        delete_contact(name)\n",
        "    elif choice == '4':\n",
        "        print(\"Exiting program...\")\n",
        "        break\n",
        "    else:\n",
        "        print(\"Invalid choice. Please try again.\")\n"
      ]
    }
  ],
  "metadata": {
    "colab": {
      "provenance": [],
      "authorship_tag": "ABX9TyNDeYHGwbWs8XtnYp7Laxx1",
      "include_colab_link": true
    },
    "kernelspec": {
      "display_name": "Python 3",
      "name": "python3"
    },
    "language_info": {
      "name": "python"
    }
  },
  "nbformat": 4,
  "nbformat_minor": 0
}