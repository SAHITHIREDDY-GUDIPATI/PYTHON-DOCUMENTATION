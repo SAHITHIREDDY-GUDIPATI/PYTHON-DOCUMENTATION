{
  "cells": [
    {
      "cell_type": "markdown",
      "metadata": {
        "id": "view-in-github",
        "colab_type": "text"
      },
      "source": [
        "<a href=\"https://colab.research.google.com/github/SAHITHIREDDY-GUDIPATI/PYTHON-DOCUMENTATION/blob/main/04_Control_Flow.ipynb\" target=\"_parent\"><img src=\"https://colab.research.google.com/assets/colab-badge.svg\" alt=\"Open In Colab\"/></a>"
      ]
    },
    {
      "cell_type": "markdown",
      "metadata": {
        "id": "X-rU8uJbziWh"
      },
      "source": [
        "**Control Flow in Python :**\n",
        "\n",
        "Control flow determines the order in which statements are executed in a Python program. It allows decision-making, repetition of tasks, and managing complex logic effectively."
      ]
    },
    {
      "cell_type": "markdown",
      "metadata": {
        "id": "QgHvTaxJz0gk"
      },
      "source": [
        "**1. Conditional Statements :**\n",
        "\n",
        "Conditional statements are used to execute a block of code based on a condition.\n",
        "\n",
        "**1.1 if Statement:**\n",
        "\n",
        "The if statement executes a block of code if a given condition is true.\n",
        "\n",
        "      Syntax:\n",
        "            if condition:\n",
        "            # Code to execute if condition is true"
      ]
    },
    {
      "cell_type": "code",
      "execution_count": null,
      "metadata": {
        "colab": {
          "base_uri": "https://localhost:8080/"
        },
        "id": "j6C6K5ND1UbK",
        "outputId": "7bf265cf-3c2a-4849-af9e-2347f5413e9b"
      },
      "outputs": [
        {
          "name": "stdout",
          "output_type": "stream",
          "text": [
            "You are eligible to vote.\n",
            "True\n",
            "True\n"
          ]
        }
      ],
      "source": [
        "#example1\n",
        "age = 18\n",
        "if age >= 18:\n",
        "    print(\"You are eligible to vote.\")\n",
        "#example 2\n",
        "a=\"sahithi\"\n",
        "if a[0]==\"s\":\n",
        "  print(True)\n",
        "#example 3\n",
        "name = \"sahithi\"\n",
        "age=18\n",
        "if name==\"sahithi\" and age==18:\n",
        "  print(True)\n",
        "#example4\n",
        "a=89\n",
        "b=9.0\n",
        "if a+b==100:\n",
        "  print(True)"
      ]
    },
    {
      "cell_type": "markdown",
      "metadata": {
        "id": "1XQbkTa0z0du"
      },
      "source": [
        "**1.2 if-else Statement :**\n",
        "\n",
        "The if-else statement executes one block of code \"if the condition is true and another block if the condition is false\" .\n",
        "\n",
        "\n",
        "\n",
        "*   syntax\n",
        "\n",
        "        if condition:\n",
        "            # Code to execute if condition is true\n",
        "        else:\n",
        "            # Code to execute if condition is false\n",
        "\n",
        "\n"
      ]
    },
    {
      "cell_type": "code",
      "execution_count": null,
      "metadata": {
        "colab": {
          "base_uri": "https://localhost:8080/"
        },
        "id": "AIMSdc7u3ywY",
        "outputId": "734709cf-e080-4fcb-9635-8cd8acdb049b"
      },
      "outputs": [
        {
          "name": "stdout",
          "output_type": "stream",
          "text": [
            "b is greater\n",
            "True\n",
            "the codition is wrong\n"
          ]
        }
      ],
      "source": [
        "#EXAMPLE1:\n",
        "a=12\n",
        "b=32\n",
        "if a>=b:\n",
        "  print(\"a is greater\")\n",
        "else:\n",
        "  print(\"b is greater\")\n",
        "#example2\n",
        "a=\"python\"\n",
        "b=\"yth\"\n",
        "if b in a:\n",
        "  print(True)\n",
        "else:\n",
        "  print(False)\n",
        "#example3\n",
        "a=\"sahithi\"\n",
        "if len(a)==5:\n",
        "  print('the len of a is', len(a))\n",
        "else:\n",
        "  print(\"the codition is wrong\")\n",
        "\n"
      ]
    },
    {
      "cell_type": "markdown",
      "metadata": {
        "id": "QlHgbTuBz0XB"
      },
      "source": [
        "**1.3 if-elif-else Statement :**\n",
        "\n",
        "The if-elif-else statement allows multiple conditions to be tested sequentially.\n",
        "\n",
        "        syntax:\n",
        "              if condition1:\n",
        "                   # Code for condition1\n",
        "              elif condition2:\n",
        "                   # Code for condition2\n",
        "              else:\n",
        "                   # Code if none of the conditions are true\n",
        "\n",
        "\n"
      ]
    },
    {
      "cell_type": "code",
      "execution_count": null,
      "metadata": {
        "colab": {
          "base_uri": "https://localhost:8080/"
        },
        "id": "-4awDWAjysrV",
        "outputId": "649084c1-7f35-4d5d-8be4-120a87367a38"
      },
      "outputs": [
        {
          "name": "stdout",
          "output_type": "stream",
          "text": [
            "Your grade is: B\n"
          ]
        }
      ],
      "source": [
        "score=82\n",
        "if score >= 90:\n",
        "    grade = 'A'\n",
        "elif score >= 80:\n",
        "    grade = 'B'\n",
        "elif score >= 70:\n",
        "    grade = 'C'\n",
        "elif score >= 60:\n",
        "    grade = 'D'\n",
        "else:\n",
        "    grade = 'F'\n",
        "\n",
        "print(\"Your grade is:\", grade)"
      ]
    },
    {
      "cell_type": "markdown",
      "metadata": {
        "id": "dO8ea2JbXZAG"
      },
      "source": [
        "**2. Loops :**\n",
        "\n",
        "Loops are used to repeat a block of code as long as a condition is true.\n",
        "\n",
        "**2.1 for Loop :**\n",
        "\n",
        "The for loop is used to iterate over a sequence (like a list, tuple, or string).\n",
        "\n",
        "     Syntax:\n",
        "              for variable in sequence:\n",
        "                    # Code to execute for each item in the sequence\n"
      ]
    },
    {
      "cell_type": "code",
      "execution_count": null,
      "metadata": {
        "colab": {
          "base_uri": "https://localhost:8080/"
        },
        "id": "WPOJwWYOXWIw",
        "outputId": "631ddd21-1802-4132-dfd2-9b82aaeceee2"
      },
      "outputs": [
        {
          "name": "stdout",
          "output_type": "stream",
          "text": [
            "1\n",
            "2\n",
            "3\n",
            "4\n",
            "5\n",
            "6\n",
            "7\n",
            "8\n",
            "9\n",
            "Apple\n",
            "Banana\n",
            "Cherry\n"
          ]
        }
      ],
      "source": [
        "#example 1 for range of numbers\n",
        "for i in range(1,10):\n",
        "  print(i)\n",
        "#example 2 list of string\n",
        "# Print each item in the list\n",
        "fruits = [\"Apple\", \"Banana\", \"Cherry\"]\n",
        "for fruit in fruits:\n",
        "    print(fruit)"
      ]
    },
    {
      "cell_type": "markdown",
      "metadata": {
        "id": "eExeb0SEZ0Ku"
      },
      "source": [
        "**2.2 while Loop :**\n",
        "\n",
        "The while loop continues as long as a condition is true.\n",
        "\n",
        "      syntax:\n",
        "            while condition:\n",
        "                # Code to execute while the condition is true\n"
      ]
    },
    {
      "cell_type": "code",
      "execution_count": null,
      "metadata": {
        "colab": {
          "base_uri": "https://localhost:8080/"
        },
        "id": "EkUdG5OaZDz3",
        "outputId": "761b3505-4918-4ccf-900e-57043e12d9f2"
      },
      "outputs": [
        {
          "name": "stdout",
          "output_type": "stream",
          "text": [
            "1\n",
            "2\n",
            "3\n"
          ]
        }
      ],
      "source": [
        "number = 1\n",
        "while number <= 3:\n",
        "    print(number)\n",
        "    number = number + 1"
      ]
    },
    {
      "cell_type": "markdown",
      "metadata": {
        "id": "4N75OPcoamHa"
      },
      "source": [
        "**3. Loop Control Statements :**\n",
        "\n",
        "These statements alter the normal flow of loops.\n",
        "\n",
        "**3.1 break Statement :**\n",
        "\n",
        "Exits the loop when a specific condition is met."
      ]
    },
    {
      "cell_type": "code",
      "execution_count": null,
      "metadata": {
        "colab": {
          "base_uri": "https://localhost:8080/"
        },
        "id": "y8tXtkEdbCCQ",
        "outputId": "7a18a326-1c37-4cd2-ee2c-cd67bcb31ff7"
      },
      "outputs": [
        {
          "name": "stdout",
          "output_type": "stream",
          "text": [
            "1\n",
            "2\n"
          ]
        }
      ],
      "source": [
        "for i in range(1, 6):\n",
        "    if i == 3:\n",
        "        break\n",
        "    print(i)"
      ]
    },
    {
      "cell_type": "markdown",
      "metadata": {
        "id": "KVJ7Gf-IbUy1"
      },
      "source": [
        "**3.2 continue Statement :**\n",
        "\n",
        "Skips the current iteration and moves to the next one."
      ]
    },
    {
      "cell_type": "code",
      "execution_count": null,
      "metadata": {
        "colab": {
          "base_uri": "https://localhost:8080/"
        },
        "id": "Fx1vhGLpaYJO",
        "outputId": "9168f6e6-f672-4f87-c707-6c1e6d22197c"
      },
      "outputs": [
        {
          "name": "stdout",
          "output_type": "stream",
          "text": [
            "1\n",
            "2\n",
            "4\n",
            "5\n"
          ]
        }
      ],
      "source": [
        "for i in range(1, 6):\n",
        "    if i == 3:\n",
        "        continue\n",
        "    print(i)"
      ]
    },
    {
      "cell_type": "markdown",
      "metadata": {
        "id": "yahZUzJHdg5p"
      },
      "source": [
        "**3.3 pass Statement :**\n",
        "\n",
        "A placeholder that does nothing and is used when a statement is required syntactically but no code needs to run."
      ]
    },
    {
      "cell_type": "code",
      "execution_count": null,
      "metadata": {
        "colab": {
          "base_uri": "https://localhost:8080/"
        },
        "id": "jWjlCRr1baPu",
        "outputId": "b471e934-431b-4421-98fa-a842d58167e6"
      },
      "outputs": [
        {
          "name": "stdout",
          "output_type": "stream",
          "text": [
            "0\n",
            "1\n",
            "2\n",
            "3\n",
            "4\n"
          ]
        }
      ],
      "source": [
        "for i in range(5):\n",
        "    if i == 3:\n",
        "        pass\n",
        "    print(i)\n"
      ]
    },
    {
      "cell_type": "markdown",
      "metadata": {
        "id": "dFXIaOIjiO6i"
      },
      "source": [
        "**4. Nested Loops :**\n",
        "\n",
        "A loop inside another loop is called a nested loop."
      ]
    },
    {
      "cell_type": "code",
      "execution_count": null,
      "metadata": {
        "colab": {
          "base_uri": "https://localhost:8080/"
        },
        "id": "gE_a2FNsiFBQ",
        "outputId": "9c904c49-303b-4db9-c424-fe80c8125a2b"
      },
      "outputs": [
        {
          "name": "stdout",
          "output_type": "stream",
          "text": [
            "1 4\n",
            "1 5\n",
            "2 4\n",
            "2 5\n"
          ]
        }
      ],
      "source": [
        "x = [1, 2]\n",
        "y = [4, 5]\n",
        "for i in x:\n",
        "  for j in y:\n",
        "    print(i, j) +"
      ]
    },
    {
      "cell_type": "markdown",
      "metadata": {
        "id": "H5CNBLLDi9ec"
      },
      "source": [
        "**5. Infinite Loops :**\n",
        "\n",
        "If the condition of a loop never becomes false, it results in an infinite loop. Be cautious while writing such loops."
      ]
    },
    {
      "cell_type": "code",
      "execution_count": null,
      "metadata": {
        "id": "0egaIPCujQzk"
      },
      "outputs": [],
      "source": [
        "# Uncomment with caution\n",
        "# while True:\n",
        "#     print(\"This is an infinite loop!\")\n"
      ]
    },
    {
      "cell_type": "markdown",
      "source": [
        "**6. Exercises :**\n",
        "\n",
        "\n",
        "\n",
        "*   Task 1: Even Numbers :-\n",
        "Write a Python program that prints all even numbers between 1 and 20 using a for loop.\n",
        "\n",
        "*   Task 2: Sum of Digits :-\n",
        "Write a Python program to calculate the sum of digits of a number using a while loop."
      ],
      "metadata": {
        "id": "rmGr7w-Pn2Qg"
      }
    },
    {
      "cell_type": "code",
      "source": [
        "#task1\n",
        "for i in range(1,20):\n",
        "  if i%2==0:\n",
        "    print(i)"
      ],
      "metadata": {
        "colab": {
          "base_uri": "https://localhost:8080/"
        },
        "id": "cbqvfA-8oVlQ",
        "outputId": "277ddc11-3a6a-4a56-f477-25c9e6b3a754"
      },
      "execution_count": null,
      "outputs": [
        {
          "output_type": "stream",
          "name": "stdout",
          "text": [
            "2\n",
            "4\n",
            "6\n",
            "8\n",
            "10\n",
            "12\n",
            "14\n",
            "16\n",
            "18\n"
          ]
        }
      ]
    },
    {
      "cell_type": "code",
      "source": [
        "#task2\n",
        "a=124\n",
        "b=24\n",
        "while a>0 and b>0:\n",
        "  print(a+b)\n",
        "  break #here i used break stament so the loop wont execute infinte times"
      ],
      "metadata": {
        "colab": {
          "base_uri": "https://localhost:8080/"
        },
        "id": "ca_3koraoWMg",
        "outputId": "ab4c9f90-3152-4e31-e2da-0e17e9a9068d"
      },
      "execution_count": null,
      "outputs": [
        {
          "output_type": "stream",
          "name": "stdout",
          "text": [
            "148\n"
          ]
        }
      ]
    }
  ],
  "metadata": {
    "colab": {
      "provenance": [],
      "authorship_tag": "ABX9TyNFBrUUGY8Vhe4Fb8DY9ylJ",
      "include_colab_link": true
    },
    "kernelspec": {
      "display_name": "Python 3",
      "name": "python3"
    },
    "language_info": {
      "name": "python"
    }
  },
  "nbformat": 4,
  "nbformat_minor": 0
}